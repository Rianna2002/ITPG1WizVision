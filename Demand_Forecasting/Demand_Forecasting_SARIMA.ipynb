{
  "nbformat": 4,
  "nbformat_minor": 0,
  "metadata": {
    "colab": {
      "provenance": [],
      "gpuType": "T4"
    },
    "kernelspec": {
      "name": "python3",
      "display_name": "Python 3"
    },
    "language_info": {
      "name": "python"
    },
    "accelerator": "GPU"
  },
  "cells": [
    {
      "cell_type": "code",
      "execution_count": 1,
      "metadata": {
        "id": "Lw2v54Iqs2Ir"
      },
      "outputs": [],
      "source": [
        "import pandas as pd\n",
        "import numpy as np\n",
        "import matplotlib.pyplot as plt\n",
        "import matplotlib.dates as mdates\n",
        "import statsmodels.api as sm\n",
        "import itertools\n",
        "import pickle\n",
        "from statsmodels.tsa.arima.model import ARIMA\n",
        "from pmdarima import auto_arima\n",
        "from statsmodels.tsa.stattools import adfuller\n",
        "from sklearn.metrics import mean_absolute_error, mean_squared_error\n",
        "from statsmodels.tsa.statespace.sarimax import SARIMAX\n",
        "from sklearn.preprocessing import OneHotEncoder"
      ]
    },
    {
      "cell_type": "code",
      "source": [
        "# Load data\n",
        "hdb_data = pd.read_csv(\"/content/merged_hdb_resale_data.csv\")\n",
        "# Step 4: Data Preprocessing\n",
        "hdb_data['date'] = pd.to_datetime(hdb_data['month'])"
      ],
      "metadata": {
        "colab": {
          "base_uri": "https://localhost:8080/"
        },
        "id": "RQBBUU14uG26",
        "outputId": "6ad5c5ed-4061-4771-aa6f-78b98c36cd08"
      },
      "execution_count": 2,
      "outputs": [
        {
          "output_type": "stream",
          "name": "stderr",
          "text": [
            "<ipython-input-2-2e059e9ec487>:2: DtypeWarning: Columns (10) have mixed types. Specify dtype option on import or set low_memory=False.\n",
            "  hdb_data = pd.read_csv(\"/content/merged_hdb_resale_data.csv\")\n"
          ]
        }
      ]
    },
    {
      "cell_type": "markdown",
      "source": [
        "# **Price Trends Forecasting Model**"
      ],
      "metadata": {
        "id": "11KQekNGm49D"
      }
    },
    {
      "cell_type": "code",
      "source": [
        "# Step 5: Forecasting Monthly Resale Prices with SARIMA\n",
        "monthly_prices = hdb_data.groupby(hdb_data['date'].dt.to_period('M'))['resale_price'].mean()\n",
        "monthly_prices.index = monthly_prices.index.to_timestamp()\n",
        "\n",
        "# Split Data into Training and Test Sets\n",
        "train_size = int(len(monthly_prices) * 0.8)  # 80% Training, 20% Testing\n",
        "train, test = monthly_prices[:train_size], monthly_prices[train_size:]\n",
        "\n",
        "# Define the parameter grid for (p,d,q) and (P,D,Q,s)\n",
        "p = d = q = range(0, 3)  # Try values 0, 1, 2\n",
        "P = D = Q = range(0, 2)  # Try values 0, 1\n",
        "s = [12]  # Monthly seasonality\n",
        "\n",
        "# Create all possible parameter combinations\n",
        "param_combinations = list(itertools.product(p, d, q, P, D, Q, s))\n",
        "\n",
        "# Store results\n",
        "results = []\n",
        "\n",
        "# Grid Search to find the best SARIMA model\n",
        "for params in param_combinations:\n",
        "    try:\n",
        "        print(f\"Testing SARIMA{params}\")\n",
        "        model = SARIMAX(\n",
        "            train,\n",
        "            order=(params[0], params[1], params[2]),  # (p,d,q)\n",
        "            seasonal_order=(params[3], params[4], params[5], params[6]),  # (P,D,Q,s)\n",
        "            enforce_stationarity=False,\n",
        "            enforce_invertibility=False\n",
        "        )\n",
        "        fit_model = model.fit()\n",
        "        results.append((params, fit_model.aic))  # Store AIC score\n",
        "\n",
        "    except Exception as e:\n",
        "        print(f\"Model failed for {params}: {e}\")\n",
        "        continue  # Skip invalid models\n",
        "\n",
        "# Find the best model based on AIC\n",
        "best_model_params, best_aic = min(results, key=lambda x: x[1])\n",
        "print(f\"\\n✅ Best SARIMA model: SARIMA{best_model_params} with AIC = {best_aic}\")\n",
        "\n",
        "# ✅ Fit the Best SARIMA Model\n",
        "best_sarima_model = SARIMAX(\n",
        "    train,\n",
        "    order=(best_model_params[0], best_model_params[1], best_model_params[2]),\n",
        "    seasonal_order=(best_model_params[3], best_model_params[4], best_model_params[5], best_model_params[6]),\n",
        "    enforce_stationarity=False,\n",
        "    enforce_invertibility=False\n",
        ")\n",
        "\n",
        "sarima_price_result = best_sarima_model.fit()\n",
        "print(sarima_price_result.summary())\n",
        "\n",
        "# Fix Forecast Steps to Ensure Correct Time Period\n",
        "last_date = monthly_prices.index[-1]\n",
        "target_date = pd.Timestamp(\"2025-12-01\")  # Forecast up to Dec 2025\n",
        "forecast_steps = (target_date.year - last_date.year) * 12 + (target_date.month - last_date.month)\n",
        "forecast_steps = max(forecast_steps, 1)  # Ensure forecast steps are positive\n",
        "\n",
        "# ✅ Forecast Prices Until 2025\n",
        "forecast_price = sarima_price_result.forecast(steps=forecast_steps)\n",
        "\n",
        "# ✅ Ensure same length for evaluation\n",
        "overlap_length = min(len(test), len(forecast_price))\n",
        "\n",
        "# Compute evaluation only for matching timeframes\n",
        "mae_price = mean_absolute_error(test[:overlap_length], forecast_price[:overlap_length])\n",
        "mse_price = mean_squared_error(test[:overlap_length], forecast_price[:overlap_length])\n",
        "rmse_price = np.sqrt(mse_price)\n",
        "\n",
        "# ✅ Print Accuracy Metrics\n",
        "print(\"SARIMA Model Accuracy for Resale Prices:\")\n",
        "print(f\"MAE: {mae_price:.2f}\")\n",
        "print(f\"MSE: {mse_price:.2f}\")\n",
        "print(f\"RMSE: {rmse_price:.2f}\")\n",
        "\n"
      ],
      "metadata": {
        "id": "R2c_R6NFwgdb",
        "colab": {
          "base_uri": "https://localhost:8080/"
        },
        "outputId": "3ce2ddb1-cb07-4312-fd14-7c5d4ffdff75"
      },
      "execution_count": 3,
      "outputs": [
        {
          "output_type": "stream",
          "name": "stdout",
          "text": [
            "Testing SARIMA(0, 0, 0, 0, 0, 0, 12)\n",
            "Testing SARIMA(0, 0, 0, 0, 0, 1, 12)\n",
            "Testing SARIMA(0, 0, 0, 0, 1, 0, 12)\n",
            "Testing SARIMA(0, 0, 0, 0, 1, 1, 12)\n",
            "Testing SARIMA(0, 0, 0, 1, 0, 0, 12)\n",
            "Testing SARIMA(0, 0, 0, 1, 0, 1, 12)\n",
            "Testing SARIMA(0, 0, 0, 1, 1, 0, 12)\n",
            "Testing SARIMA(0, 0, 0, 1, 1, 1, 12)\n",
            "Testing SARIMA(0, 0, 1, 0, 0, 0, 12)\n",
            "Testing SARIMA(0, 0, 1, 0, 0, 1, 12)\n",
            "Testing SARIMA(0, 0, 1, 0, 1, 0, 12)\n",
            "Testing SARIMA(0, 0, 1, 0, 1, 1, 12)\n",
            "Testing SARIMA(0, 0, 1, 1, 0, 0, 12)\n",
            "Testing SARIMA(0, 0, 1, 1, 0, 1, 12)\n",
            "Testing SARIMA(0, 0, 1, 1, 1, 0, 12)\n",
            "Testing SARIMA(0, 0, 1, 1, 1, 1, 12)\n",
            "Testing SARIMA(0, 0, 2, 0, 0, 0, 12)\n",
            "Testing SARIMA(0, 0, 2, 0, 0, 1, 12)\n",
            "Testing SARIMA(0, 0, 2, 0, 1, 0, 12)\n",
            "Testing SARIMA(0, 0, 2, 0, 1, 1, 12)\n",
            "Testing SARIMA(0, 0, 2, 1, 0, 0, 12)\n",
            "Testing SARIMA(0, 0, 2, 1, 0, 1, 12)\n",
            "Testing SARIMA(0, 0, 2, 1, 1, 0, 12)\n",
            "Testing SARIMA(0, 0, 2, 1, 1, 1, 12)\n",
            "Testing SARIMA(0, 1, 0, 0, 0, 0, 12)\n",
            "Testing SARIMA(0, 1, 0, 0, 0, 1, 12)\n",
            "Testing SARIMA(0, 1, 0, 0, 1, 0, 12)\n",
            "Testing SARIMA(0, 1, 0, 0, 1, 1, 12)\n",
            "Testing SARIMA(0, 1, 0, 1, 0, 0, 12)\n",
            "Testing SARIMA(0, 1, 0, 1, 0, 1, 12)\n",
            "Testing SARIMA(0, 1, 0, 1, 1, 0, 12)\n",
            "Testing SARIMA(0, 1, 0, 1, 1, 1, 12)\n",
            "Testing SARIMA(0, 1, 1, 0, 0, 0, 12)\n",
            "Testing SARIMA(0, 1, 1, 0, 0, 1, 12)\n",
            "Testing SARIMA(0, 1, 1, 0, 1, 0, 12)\n",
            "Testing SARIMA(0, 1, 1, 0, 1, 1, 12)\n",
            "Testing SARIMA(0, 1, 1, 1, 0, 0, 12)\n",
            "Testing SARIMA(0, 1, 1, 1, 0, 1, 12)\n",
            "Testing SARIMA(0, 1, 1, 1, 1, 0, 12)\n",
            "Testing SARIMA(0, 1, 1, 1, 1, 1, 12)\n",
            "Testing SARIMA(0, 1, 2, 0, 0, 0, 12)\n",
            "Testing SARIMA(0, 1, 2, 0, 0, 1, 12)\n",
            "Testing SARIMA(0, 1, 2, 0, 1, 0, 12)\n",
            "Testing SARIMA(0, 1, 2, 0, 1, 1, 12)\n",
            "Testing SARIMA(0, 1, 2, 1, 0, 0, 12)\n",
            "Testing SARIMA(0, 1, 2, 1, 0, 1, 12)\n",
            "Testing SARIMA(0, 1, 2, 1, 1, 0, 12)\n",
            "Testing SARIMA(0, 1, 2, 1, 1, 1, 12)\n",
            "Testing SARIMA(0, 2, 0, 0, 0, 0, 12)\n",
            "Testing SARIMA(0, 2, 0, 0, 0, 1, 12)\n",
            "Testing SARIMA(0, 2, 0, 0, 1, 0, 12)\n",
            "Testing SARIMA(0, 2, 0, 0, 1, 1, 12)\n",
            "Testing SARIMA(0, 2, 0, 1, 0, 0, 12)\n",
            "Testing SARIMA(0, 2, 0, 1, 0, 1, 12)\n",
            "Testing SARIMA(0, 2, 0, 1, 1, 0, 12)\n",
            "Testing SARIMA(0, 2, 0, 1, 1, 1, 12)\n",
            "Testing SARIMA(0, 2, 1, 0, 0, 0, 12)\n",
            "Testing SARIMA(0, 2, 1, 0, 0, 1, 12)\n",
            "Testing SARIMA(0, 2, 1, 0, 1, 0, 12)\n",
            "Testing SARIMA(0, 2, 1, 0, 1, 1, 12)\n",
            "Testing SARIMA(0, 2, 1, 1, 0, 0, 12)\n",
            "Testing SARIMA(0, 2, 1, 1, 0, 1, 12)\n",
            "Testing SARIMA(0, 2, 1, 1, 1, 0, 12)\n",
            "Testing SARIMA(0, 2, 1, 1, 1, 1, 12)\n",
            "Testing SARIMA(0, 2, 2, 0, 0, 0, 12)\n",
            "Testing SARIMA(0, 2, 2, 0, 0, 1, 12)\n",
            "Testing SARIMA(0, 2, 2, 0, 1, 0, 12)\n",
            "Testing SARIMA(0, 2, 2, 0, 1, 1, 12)\n",
            "Testing SARIMA(0, 2, 2, 1, 0, 0, 12)\n",
            "Testing SARIMA(0, 2, 2, 1, 0, 1, 12)\n",
            "Testing SARIMA(0, 2, 2, 1, 1, 0, 12)\n",
            "Testing SARIMA(0, 2, 2, 1, 1, 1, 12)\n",
            "Testing SARIMA(1, 0, 0, 0, 0, 0, 12)\n",
            "Testing SARIMA(1, 0, 0, 0, 0, 1, 12)\n",
            "Testing SARIMA(1, 0, 0, 0, 1, 0, 12)\n",
            "Testing SARIMA(1, 0, 0, 0, 1, 1, 12)\n"
          ]
        },
        {
          "output_type": "stream",
          "name": "stderr",
          "text": [
            "/usr/local/lib/python3.11/dist-packages/statsmodels/base/model.py:607: ConvergenceWarning: Maximum Likelihood optimization failed to converge. Check mle_retvals\n",
            "  warnings.warn(\"Maximum Likelihood optimization failed to \"\n"
          ]
        },
        {
          "output_type": "stream",
          "name": "stdout",
          "text": [
            "Testing SARIMA(1, 0, 0, 1, 0, 0, 12)\n",
            "Testing SARIMA(1, 0, 0, 1, 0, 1, 12)\n",
            "Testing SARIMA(1, 0, 0, 1, 1, 0, 12)\n",
            "Testing SARIMA(1, 0, 0, 1, 1, 1, 12)\n",
            "Testing SARIMA(1, 0, 1, 0, 0, 0, 12)\n",
            "Testing SARIMA(1, 0, 1, 0, 0, 1, 12)\n",
            "Testing SARIMA(1, 0, 1, 0, 1, 0, 12)\n",
            "Testing SARIMA(1, 0, 1, 0, 1, 1, 12)\n",
            "Testing SARIMA(1, 0, 1, 1, 0, 0, 12)\n",
            "Testing SARIMA(1, 0, 1, 1, 0, 1, 12)\n",
            "Testing SARIMA(1, 0, 1, 1, 1, 0, 12)\n",
            "Testing SARIMA(1, 0, 1, 1, 1, 1, 12)\n",
            "Testing SARIMA(1, 0, 2, 0, 0, 0, 12)\n",
            "Testing SARIMA(1, 0, 2, 0, 0, 1, 12)\n",
            "Testing SARIMA(1, 0, 2, 0, 1, 0, 12)\n",
            "Testing SARIMA(1, 0, 2, 0, 1, 1, 12)\n",
            "Testing SARIMA(1, 0, 2, 1, 0, 0, 12)\n",
            "Testing SARIMA(1, 0, 2, 1, 0, 1, 12)\n",
            "Testing SARIMA(1, 0, 2, 1, 1, 0, 12)\n",
            "Testing SARIMA(1, 0, 2, 1, 1, 1, 12)\n",
            "Testing SARIMA(1, 1, 0, 0, 0, 0, 12)\n",
            "Testing SARIMA(1, 1, 0, 0, 0, 1, 12)\n",
            "Testing SARIMA(1, 1, 0, 0, 1, 0, 12)\n",
            "Testing SARIMA(1, 1, 0, 0, 1, 1, 12)\n",
            "Testing SARIMA(1, 1, 0, 1, 0, 0, 12)\n",
            "Testing SARIMA(1, 1, 0, 1, 0, 1, 12)\n",
            "Testing SARIMA(1, 1, 0, 1, 1, 0, 12)\n",
            "Testing SARIMA(1, 1, 0, 1, 1, 1, 12)\n",
            "Testing SARIMA(1, 1, 1, 0, 0, 0, 12)\n",
            "Testing SARIMA(1, 1, 1, 0, 0, 1, 12)\n",
            "Testing SARIMA(1, 1, 1, 0, 1, 0, 12)\n",
            "Testing SARIMA(1, 1, 1, 0, 1, 1, 12)\n",
            "Testing SARIMA(1, 1, 1, 1, 0, 0, 12)\n",
            "Testing SARIMA(1, 1, 1, 1, 0, 1, 12)\n",
            "Testing SARIMA(1, 1, 1, 1, 1, 0, 12)\n",
            "Testing SARIMA(1, 1, 1, 1, 1, 1, 12)\n",
            "Testing SARIMA(1, 1, 2, 0, 0, 0, 12)\n",
            "Testing SARIMA(1, 1, 2, 0, 0, 1, 12)\n",
            "Testing SARIMA(1, 1, 2, 0, 1, 0, 12)\n",
            "Testing SARIMA(1, 1, 2, 0, 1, 1, 12)\n",
            "Testing SARIMA(1, 1, 2, 1, 0, 0, 12)\n",
            "Testing SARIMA(1, 1, 2, 1, 0, 1, 12)\n",
            "Testing SARIMA(1, 1, 2, 1, 1, 0, 12)\n",
            "Testing SARIMA(1, 1, 2, 1, 1, 1, 12)\n",
            "Testing SARIMA(1, 2, 0, 0, 0, 0, 12)\n",
            "Testing SARIMA(1, 2, 0, 0, 0, 1, 12)\n",
            "Testing SARIMA(1, 2, 0, 0, 1, 0, 12)\n",
            "Testing SARIMA(1, 2, 0, 0, 1, 1, 12)\n",
            "Testing SARIMA(1, 2, 0, 1, 0, 0, 12)\n",
            "Testing SARIMA(1, 2, 0, 1, 0, 1, 12)\n",
            "Testing SARIMA(1, 2, 0, 1, 1, 0, 12)\n",
            "Testing SARIMA(1, 2, 0, 1, 1, 1, 12)\n",
            "Testing SARIMA(1, 2, 1, 0, 0, 0, 12)\n",
            "Testing SARIMA(1, 2, 1, 0, 0, 1, 12)\n",
            "Testing SARIMA(1, 2, 1, 0, 1, 0, 12)\n",
            "Testing SARIMA(1, 2, 1, 0, 1, 1, 12)\n",
            "Testing SARIMA(1, 2, 1, 1, 0, 0, 12)\n",
            "Testing SARIMA(1, 2, 1, 1, 0, 1, 12)\n",
            "Testing SARIMA(1, 2, 1, 1, 1, 0, 12)\n",
            "Testing SARIMA(1, 2, 1, 1, 1, 1, 12)\n",
            "Testing SARIMA(1, 2, 2, 0, 0, 0, 12)\n",
            "Testing SARIMA(1, 2, 2, 0, 0, 1, 12)\n",
            "Testing SARIMA(1, 2, 2, 0, 1, 0, 12)\n",
            "Testing SARIMA(1, 2, 2, 0, 1, 1, 12)\n",
            "Testing SARIMA(1, 2, 2, 1, 0, 0, 12)\n",
            "Testing SARIMA(1, 2, 2, 1, 0, 1, 12)\n",
            "Testing SARIMA(1, 2, 2, 1, 1, 0, 12)\n",
            "Testing SARIMA(1, 2, 2, 1, 1, 1, 12)\n",
            "Testing SARIMA(2, 0, 0, 0, 0, 0, 12)\n",
            "Testing SARIMA(2, 0, 0, 0, 0, 1, 12)\n"
          ]
        },
        {
          "output_type": "stream",
          "name": "stderr",
          "text": [
            "/usr/local/lib/python3.11/dist-packages/statsmodels/base/model.py:607: ConvergenceWarning: Maximum Likelihood optimization failed to converge. Check mle_retvals\n",
            "  warnings.warn(\"Maximum Likelihood optimization failed to \"\n"
          ]
        },
        {
          "output_type": "stream",
          "name": "stdout",
          "text": [
            "Testing SARIMA(2, 0, 0, 0, 1, 0, 12)\n",
            "Testing SARIMA(2, 0, 0, 0, 1, 1, 12)\n"
          ]
        },
        {
          "output_type": "stream",
          "name": "stderr",
          "text": [
            "/usr/local/lib/python3.11/dist-packages/statsmodels/base/model.py:607: ConvergenceWarning: Maximum Likelihood optimization failed to converge. Check mle_retvals\n",
            "  warnings.warn(\"Maximum Likelihood optimization failed to \"\n"
          ]
        },
        {
          "output_type": "stream",
          "name": "stdout",
          "text": [
            "Testing SARIMA(2, 0, 0, 1, 0, 0, 12)\n",
            "Testing SARIMA(2, 0, 0, 1, 0, 1, 12)\n",
            "Testing SARIMA(2, 0, 0, 1, 1, 0, 12)\n",
            "Testing SARIMA(2, 0, 0, 1, 1, 1, 12)\n",
            "Testing SARIMA(2, 0, 1, 0, 0, 0, 12)\n",
            "Testing SARIMA(2, 0, 1, 0, 0, 1, 12)\n",
            "Testing SARIMA(2, 0, 1, 0, 1, 0, 12)\n",
            "Testing SARIMA(2, 0, 1, 0, 1, 1, 12)\n"
          ]
        },
        {
          "output_type": "stream",
          "name": "stderr",
          "text": [
            "/usr/local/lib/python3.11/dist-packages/statsmodels/base/model.py:607: ConvergenceWarning: Maximum Likelihood optimization failed to converge. Check mle_retvals\n",
            "  warnings.warn(\"Maximum Likelihood optimization failed to \"\n"
          ]
        },
        {
          "output_type": "stream",
          "name": "stdout",
          "text": [
            "Testing SARIMA(2, 0, 1, 1, 0, 0, 12)\n",
            "Testing SARIMA(2, 0, 1, 1, 0, 1, 12)\n"
          ]
        },
        {
          "output_type": "stream",
          "name": "stderr",
          "text": [
            "/usr/local/lib/python3.11/dist-packages/statsmodels/base/model.py:607: ConvergenceWarning: Maximum Likelihood optimization failed to converge. Check mle_retvals\n",
            "  warnings.warn(\"Maximum Likelihood optimization failed to \"\n"
          ]
        },
        {
          "output_type": "stream",
          "name": "stdout",
          "text": [
            "Testing SARIMA(2, 0, 1, 1, 1, 0, 12)\n",
            "Testing SARIMA(2, 0, 1, 1, 1, 1, 12)\n",
            "Testing SARIMA(2, 0, 2, 0, 0, 0, 12)\n",
            "Testing SARIMA(2, 0, 2, 0, 0, 1, 12)\n",
            "Testing SARIMA(2, 0, 2, 0, 1, 0, 12)\n",
            "Testing SARIMA(2, 0, 2, 0, 1, 1, 12)\n"
          ]
        },
        {
          "output_type": "stream",
          "name": "stderr",
          "text": [
            "/usr/local/lib/python3.11/dist-packages/statsmodels/base/model.py:607: ConvergenceWarning: Maximum Likelihood optimization failed to converge. Check mle_retvals\n",
            "  warnings.warn(\"Maximum Likelihood optimization failed to \"\n"
          ]
        },
        {
          "output_type": "stream",
          "name": "stdout",
          "text": [
            "Testing SARIMA(2, 0, 2, 1, 0, 0, 12)\n"
          ]
        },
        {
          "output_type": "stream",
          "name": "stderr",
          "text": [
            "/usr/local/lib/python3.11/dist-packages/statsmodels/base/model.py:607: ConvergenceWarning: Maximum Likelihood optimization failed to converge. Check mle_retvals\n",
            "  warnings.warn(\"Maximum Likelihood optimization failed to \"\n"
          ]
        },
        {
          "output_type": "stream",
          "name": "stdout",
          "text": [
            "Testing SARIMA(2, 0, 2, 1, 0, 1, 12)\n"
          ]
        },
        {
          "output_type": "stream",
          "name": "stderr",
          "text": [
            "/usr/local/lib/python3.11/dist-packages/statsmodels/base/model.py:607: ConvergenceWarning: Maximum Likelihood optimization failed to converge. Check mle_retvals\n",
            "  warnings.warn(\"Maximum Likelihood optimization failed to \"\n"
          ]
        },
        {
          "output_type": "stream",
          "name": "stdout",
          "text": [
            "Testing SARIMA(2, 0, 2, 1, 1, 0, 12)\n",
            "Testing SARIMA(2, 0, 2, 1, 1, 1, 12)\n",
            "Testing SARIMA(2, 1, 0, 0, 0, 0, 12)\n",
            "Testing SARIMA(2, 1, 0, 0, 0, 1, 12)\n",
            "Testing SARIMA(2, 1, 0, 0, 1, 0, 12)\n",
            "Testing SARIMA(2, 1, 0, 0, 1, 1, 12)\n",
            "Testing SARIMA(2, 1, 0, 1, 0, 0, 12)\n",
            "Testing SARIMA(2, 1, 0, 1, 0, 1, 12)\n",
            "Testing SARIMA(2, 1, 0, 1, 1, 0, 12)\n",
            "Testing SARIMA(2, 1, 0, 1, 1, 1, 12)\n",
            "Testing SARIMA(2, 1, 1, 0, 0, 0, 12)\n",
            "Testing SARIMA(2, 1, 1, 0, 0, 1, 12)\n",
            "Testing SARIMA(2, 1, 1, 0, 1, 0, 12)\n",
            "Testing SARIMA(2, 1, 1, 0, 1, 1, 12)\n",
            "Testing SARIMA(2, 1, 1, 1, 0, 0, 12)\n",
            "Testing SARIMA(2, 1, 1, 1, 0, 1, 12)\n",
            "Testing SARIMA(2, 1, 1, 1, 1, 0, 12)\n",
            "Testing SARIMA(2, 1, 1, 1, 1, 1, 12)\n",
            "Testing SARIMA(2, 1, 2, 0, 0, 0, 12)\n",
            "Testing SARIMA(2, 1, 2, 0, 0, 1, 12)\n",
            "Testing SARIMA(2, 1, 2, 0, 1, 0, 12)\n",
            "Testing SARIMA(2, 1, 2, 0, 1, 1, 12)\n",
            "Testing SARIMA(2, 1, 2, 1, 0, 0, 12)\n",
            "Testing SARIMA(2, 1, 2, 1, 0, 1, 12)\n",
            "Testing SARIMA(2, 1, 2, 1, 1, 0, 12)\n",
            "Testing SARIMA(2, 1, 2, 1, 1, 1, 12)\n",
            "Testing SARIMA(2, 2, 0, 0, 0, 0, 12)\n",
            "Testing SARIMA(2, 2, 0, 0, 0, 1, 12)\n",
            "Testing SARIMA(2, 2, 0, 0, 1, 0, 12)\n",
            "Testing SARIMA(2, 2, 0, 0, 1, 1, 12)\n",
            "Testing SARIMA(2, 2, 0, 1, 0, 0, 12)\n",
            "Testing SARIMA(2, 2, 0, 1, 0, 1, 12)\n",
            "Testing SARIMA(2, 2, 0, 1, 1, 0, 12)\n",
            "Testing SARIMA(2, 2, 0, 1, 1, 1, 12)\n",
            "Testing SARIMA(2, 2, 1, 0, 0, 0, 12)\n",
            "Testing SARIMA(2, 2, 1, 0, 0, 1, 12)\n",
            "Testing SARIMA(2, 2, 1, 0, 1, 0, 12)\n",
            "Testing SARIMA(2, 2, 1, 0, 1, 1, 12)\n",
            "Testing SARIMA(2, 2, 1, 1, 0, 0, 12)\n",
            "Testing SARIMA(2, 2, 1, 1, 0, 1, 12)\n",
            "Testing SARIMA(2, 2, 1, 1, 1, 0, 12)\n",
            "Testing SARIMA(2, 2, 1, 1, 1, 1, 12)\n",
            "Testing SARIMA(2, 2, 2, 0, 0, 0, 12)\n",
            "Testing SARIMA(2, 2, 2, 0, 0, 1, 12)\n",
            "Testing SARIMA(2, 2, 2, 0, 1, 0, 12)\n",
            "Testing SARIMA(2, 2, 2, 0, 1, 1, 12)\n",
            "Testing SARIMA(2, 2, 2, 1, 0, 0, 12)\n",
            "Testing SARIMA(2, 2, 2, 1, 0, 1, 12)\n",
            "Testing SARIMA(2, 2, 2, 1, 1, 0, 12)\n",
            "Testing SARIMA(2, 2, 2, 1, 1, 1, 12)\n",
            "\n",
            "✅ Best SARIMA model: SARIMA(2, 2, 2, 0, 1, 1, 12) with AIC = 6180.44826150708\n",
            "                                      SARIMAX Results                                       \n",
            "============================================================================================\n",
            "Dep. Variable:                         resale_price   No. Observations:                  337\n",
            "Model:             SARIMAX(2, 2, 2)x(0, 1, [1], 12)   Log Likelihood               -3084.224\n",
            "Date:                              Tue, 11 Mar 2025   AIC                           6180.448\n",
            "Time:                                      09:55:11   BIC                           6202.829\n",
            "Sample:                                  01-01-1990   HQIC                          6189.397\n",
            "                                       - 01-01-2018                                         \n",
            "Covariance Type:                                opg                                         \n",
            "==============================================================================\n",
            "                 coef    std err          z      P>|z|      [0.025      0.975]\n",
            "------------------------------------------------------------------------------\n",
            "ar.L1          0.6364      0.088      7.259      0.000       0.465       0.808\n",
            "ar.L2          0.2600      0.081      3.200      0.001       0.101       0.419\n",
            "ma.L1         -1.6912      0.074    -22.940      0.000      -1.836      -1.547\n",
            "ma.L2          0.6942      0.065     10.624      0.000       0.566       0.822\n",
            "ma.S.L12      -0.7190      0.058    -12.337      0.000      -0.833      -0.605\n",
            "sigma2      3.992e+07   3.66e-10   1.09e+17      0.000    3.99e+07    3.99e+07\n",
            "===================================================================================\n",
            "Ljung-Box (L1) (Q):                   0.22   Jarque-Bera (JB):                14.17\n",
            "Prob(Q):                              0.64   Prob(JB):                         0.00\n",
            "Heteroskedasticity (H):               1.04   Skew:                             0.01\n",
            "Prob(H) (two-sided):                  0.84   Kurtosis:                         4.05\n",
            "===================================================================================\n",
            "\n",
            "Warnings:\n",
            "[1] Covariance matrix calculated using the outer product of gradients (complex-step).\n",
            "[2] Covariance matrix is singular or near-singular, with condition number 1.26e+33. Standard errors may be unstable.\n",
            "SARIMA Model Accuracy for Resale Prices:\n",
            "MAE: 15822.62\n",
            "MSE: 338541171.99\n",
            "RMSE: 18399.49\n"
          ]
        }
      ]
    },
    {
      "cell_type": "markdown",
      "source": [
        "# **Price Trends Forecasting Visualisation**"
      ],
      "metadata": {
        "id": "D35fwxYlm1OS"
      }
    },
    {
      "cell_type": "code",
      "source": [
        "# ✅ Generate correct future date range\n",
        "future_dates = pd.date_range(start=last_date + pd.DateOffset(months=1), periods=forecast_steps, freq='MS')\n",
        "\n",
        "# ✅ Plot the extended forecast\n",
        "plt.figure(figsize=(18,5))\n",
        "plt.plot(monthly_prices, label=\"Actual Prices\")\n",
        "plt.plot(future_dates, forecast_price, label=\"Forecasted Prices for 2025\", linestyle=\"dashed\")\n",
        "\n",
        "# ✅ Set x-axis format and limits for every month\n",
        "plt.xlim(pd.Timestamp(\"2024-01-01\"), pd.Timestamp(\"2025-12-31\"))  # Restrict x-axis to Jan 2024 - Dec 2025\n",
        "plt.xticks(pd.date_range(\"2024-01-01\", \"2025-12-01\", freq=\"M\"), rotation=45)  # Show every month\n",
        "plt.gca().xaxis.set_major_formatter(mdates.DateFormatter(\"%Y-%m\"))  # Format as YYYY-MM\n",
        "\n",
        "# Labels & Title\n",
        "plt.title(\"Extended Monthly Resale Price Forecast (SARIMA)\")\n",
        "plt.xlabel(\"Month\")\n",
        "plt.ylabel(\"Resale Price\")\n",
        "plt.legend()\n",
        "plt.show()"
      ],
      "metadata": {
        "colab": {
          "base_uri": "https://localhost:8080/",
          "height": 558
        },
        "id": "Fs0b55MtcRTH",
        "outputId": "38f2b20c-909e-48e3-a75d-86ae98c088d0"
      },
      "execution_count": 4,
      "outputs": [
        {
          "output_type": "stream",
          "name": "stderr",
          "text": [
            "<ipython-input-4-69d99d266397>:11: FutureWarning: 'M' is deprecated and will be removed in a future version, please use 'ME' instead.\n",
            "  plt.xticks(pd.date_range(\"2024-01-01\", \"2025-12-01\", freq=\"M\"), rotation=45)  # Show every month\n"
          ]
        },
        {
          "output_type": "display_data",
          "data": {
            "text/plain": [
              "<Figure size 1800x500 with 1 Axes>"
            ],
            "image/png": "[encoded data removed]"
          },
          "metadata": {}
        }
      ]
    },
    {
      "cell_type": "markdown",
      "source": [
        "# **Resale Transactions Model**"
      ],
      "metadata": {
        "id": "COvfz7shmdIa"
      }
    },
    {
      "cell_type": "code",
      "source": [
        "# Resample data to get monthly transactions\n",
        "monthly_transactions = hdb_data.resample('ME', on='date').size()\n",
        "\n",
        "# Split Data into Training and Test Sets\n",
        "train_size = int(len(monthly_transactions) * 0.8)  # 80% Training, 20% Testing\n",
        "train_trans, test_trans = monthly_transactions[:train_size], monthly_transactions[train_size:]\n",
        "\n",
        "# Define the parameter grid for (p,d,q) and (P,D,Q,s)\n",
        "p = d = q = range(0, 3)  # Try values 0, 1, 2\n",
        "P = D = Q = range(0, 2)  # Try values 0, 1\n",
        "s = [12]  # Monthly seasonality\n",
        "\n",
        "# Create all possible parameter combinations\n",
        "param_combinations = list(itertools.product(p, d, q, P, D, Q, s))\n",
        "\n",
        "# Store results\n",
        "results = []\n",
        "\n",
        "# Grid Search to find the best SARIMA model\n",
        "for params in param_combinations:\n",
        "    try:\n",
        "        print(f\"Testing SARIMA{params}\")\n",
        "        model = SARIMAX(\n",
        "            train_trans,\n",
        "            order=(params[0], params[1], params[2]),  # (p,d,q)\n",
        "            seasonal_order=(params[3], params[4], params[5], params[6]),  # (P,D,Q,s)\n",
        "            enforce_stationarity=False,\n",
        "            enforce_invertibility=False\n",
        "        )\n",
        "        fit_model = model.fit()\n",
        "        results.append((params, fit_model.aic))  # Store AIC score\n",
        "\n",
        "    except Exception as e:\n",
        "        print(f\"Model failed for {params}: {e}\")\n",
        "        continue  # Skip invalid models\n",
        "\n",
        "# Find the best model based on AIC\n",
        "best_model_params, best_aic = min(results, key=lambda x: x[1])\n",
        "print(f\"\\n✅ Best SARIMA model: SARIMA{best_model_params} with AIC = {best_aic}\")\n",
        "\n",
        "# ✅ Fit the Best SARIMA Model\n",
        "best_sarima_model = SARIMAX(\n",
        "    train_trans,\n",
        "    order=(best_model_params[0], best_model_params[1], best_model_params[2]),\n",
        "    seasonal_order=(best_model_params[3], best_model_params[4], best_model_params[5], best_model_params[6]),\n",
        "    enforce_stationarity=False,\n",
        "    enforce_invertibility=False\n",
        ")\n",
        "\n",
        "sarima_trans_result = best_sarima_model.fit()\n",
        "print(sarima_trans_result.summary())\n",
        "\n",
        "# ✅ Fix Forecast Steps to Ensure Correct Time Period\n",
        "last_date_trans = monthly_transactions.index[-1]\n",
        "target_date_trans = pd.Timestamp(\"2025-12-01\")  # Forecast up to Dec 2025\n",
        "\n",
        "forecast_steps_trans = (target_date_trans.year - last_date_trans.year) * 12 + (target_date_trans.month - last_date_trans.month)\n",
        "forecast_steps_trans = max(min(forecast_steps_trans, 24), 1)  # Limit forecast to 24 months\n",
        "\n",
        "# ✅ Forecast Transactions Until 2025\n",
        "forecast_trans = sarima_trans_result.forecast(steps=forecast_steps_trans)\n",
        "\n",
        "# ✅ Ensure same length for evaluation\n",
        "overlap_length_trans = min(len(test_trans), len(forecast_trans))\n",
        "\n",
        "# Compute evaluation only for matching timeframes\n",
        "mae_trans = mean_absolute_error(test_trans[:overlap_length_trans], forecast_trans[:overlap_length_trans])\n",
        "mse_trans = mean_squared_error(test_trans[:overlap_length_trans], forecast_trans[:overlap_length_trans])\n",
        "rmse_trans = np.sqrt(mse_trans)\n",
        "\n",
        "# ✅ Print Accuracy Metrics\n",
        "print(\"SARIMA Model Accuracy for Resale Transactions:\")\n",
        "print(f\"MAE: {mae_trans:.2f}\")\n",
        "print(f\"MSE: {mse_trans:.2f}\")\n",
        "print(f\"RMSE: {rmse_trans:.2f}\")\n",
        "\n"
      ],
      "metadata": {
        "colab": {
          "base_uri": "https://localhost:8080/"
        },
        "id": "4e5WNwbCdAoH",
        "outputId": "63088b71-d0a9-4eb0-9ab3-25c6bea05c69"
      },
      "execution_count": 5,
      "outputs": [
        {
          "output_type": "stream",
          "name": "stdout",
          "text": [
            "Testing SARIMA(0, 0, 0, 0, 0, 0, 12)\n",
            "Testing SARIMA(0, 0, 0, 0, 0, 1, 12)\n",
            "Testing SARIMA(0, 0, 0, 0, 1, 0, 12)\n",
            "Testing SARIMA(0, 0, 0, 0, 1, 1, 12)\n",
            "Testing SARIMA(0, 0, 0, 1, 0, 0, 12)\n",
            "Testing SARIMA(0, 0, 0, 1, 0, 1, 12)\n",
            "Testing SARIMA(0, 0, 0, 1, 1, 0, 12)\n",
            "Testing SARIMA(0, 0, 0, 1, 1, 1, 12)\n",
            "Testing SARIMA(0, 0, 1, 0, 0, 0, 12)\n",
            "Testing SARIMA(0, 0, 1, 0, 0, 1, 12)\n",
            "Testing SARIMA(0, 0, 1, 0, 1, 0, 12)\n",
            "Testing SARIMA(0, 0, 1, 0, 1, 1, 12)\n",
            "Testing SARIMA(0, 0, 1, 1, 0, 0, 12)\n",
            "Testing SARIMA(0, 0, 1, 1, 0, 1, 12)\n",
            "Testing SARIMA(0, 0, 1, 1, 1, 0, 12)\n",
            "Testing SARIMA(0, 0, 1, 1, 1, 1, 12)\n",
            "Testing SARIMA(0, 0, 2, 0, 0, 0, 12)\n",
            "Testing SARIMA(0, 0, 2, 0, 0, 1, 12)\n",
            "Testing SARIMA(0, 0, 2, 0, 1, 0, 12)\n",
            "Testing SARIMA(0, 0, 2, 0, 1, 1, 12)\n",
            "Testing SARIMA(0, 0, 2, 1, 0, 0, 12)\n",
            "Testing SARIMA(0, 0, 2, 1, 0, 1, 12)\n"
          ]
        },
        {
          "output_type": "stream",
          "name": "stderr",
          "text": [
            "/usr/local/lib/python3.11/dist-packages/statsmodels/base/model.py:607: ConvergenceWarning: Maximum Likelihood optimization failed to converge. Check mle_retvals\n",
            "  warnings.warn(\"Maximum Likelihood optimization failed to \"\n"
          ]
        },
        {
          "output_type": "stream",
          "name": "stdout",
          "text": [
            "Testing SARIMA(0, 0, 2, 1, 1, 0, 12)\n",
            "Testing SARIMA(0, 0, 2, 1, 1, 1, 12)\n",
            "Testing SARIMA(0, 1, 0, 0, 0, 0, 12)\n",
            "Testing SARIMA(0, 1, 0, 0, 0, 1, 12)\n",
            "Testing SARIMA(0, 1, 0, 0, 1, 0, 12)\n",
            "Testing SARIMA(0, 1, 0, 0, 1, 1, 12)\n",
            "Testing SARIMA(0, 1, 0, 1, 0, 0, 12)\n",
            "Testing SARIMA(0, 1, 0, 1, 0, 1, 12)\n",
            "Testing SARIMA(0, 1, 0, 1, 1, 0, 12)\n",
            "Testing SARIMA(0, 1, 0, 1, 1, 1, 12)\n",
            "Testing SARIMA(0, 1, 1, 0, 0, 0, 12)\n",
            "Testing SARIMA(0, 1, 1, 0, 0, 1, 12)\n",
            "Testing SARIMA(0, 1, 1, 0, 1, 0, 12)\n",
            "Testing SARIMA(0, 1, 1, 0, 1, 1, 12)\n",
            "Testing SARIMA(0, 1, 1, 1, 0, 0, 12)\n",
            "Testing SARIMA(0, 1, 1, 1, 0, 1, 12)\n",
            "Testing SARIMA(0, 1, 1, 1, 1, 0, 12)\n",
            "Testing SARIMA(0, 1, 1, 1, 1, 1, 12)\n",
            "Testing SARIMA(0, 1, 2, 0, 0, 0, 12)\n",
            "Testing SARIMA(0, 1, 2, 0, 0, 1, 12)\n",
            "Testing SARIMA(0, 1, 2, 0, 1, 0, 12)\n",
            "Testing SARIMA(0, 1, 2, 0, 1, 1, 12)\n",
            "Testing SARIMA(0, 1, 2, 1, 0, 0, 12)\n",
            "Testing SARIMA(0, 1, 2, 1, 0, 1, 12)\n",
            "Testing SARIMA(0, 1, 2, 1, 1, 0, 12)\n",
            "Testing SARIMA(0, 1, 2, 1, 1, 1, 12)\n",
            "Testing SARIMA(0, 2, 0, 0, 0, 0, 12)\n",
            "Testing SARIMA(0, 2, 0, 0, 0, 1, 12)\n",
            "Testing SARIMA(0, 2, 0, 0, 1, 0, 12)\n",
            "Testing SARIMA(0, 2, 0, 0, 1, 1, 12)\n",
            "Testing SARIMA(0, 2, 0, 1, 0, 0, 12)\n",
            "Testing SARIMA(0, 2, 0, 1, 0, 1, 12)\n",
            "Testing SARIMA(0, 2, 0, 1, 1, 0, 12)\n",
            "Testing SARIMA(0, 2, 0, 1, 1, 1, 12)\n",
            "Testing SARIMA(0, 2, 1, 0, 0, 0, 12)\n",
            "Testing SARIMA(0, 2, 1, 0, 0, 1, 12)\n",
            "Testing SARIMA(0, 2, 1, 0, 1, 0, 12)\n",
            "Testing SARIMA(0, 2, 1, 0, 1, 1, 12)\n",
            "Testing SARIMA(0, 2, 1, 1, 0, 0, 12)\n",
            "Testing SARIMA(0, 2, 1, 1, 0, 1, 12)\n",
            "Testing SARIMA(0, 2, 1, 1, 1, 0, 12)\n",
            "Testing SARIMA(0, 2, 1, 1, 1, 1, 12)\n",
            "Testing SARIMA(0, 2, 2, 0, 0, 0, 12)\n",
            "Testing SARIMA(0, 2, 2, 0, 0, 1, 12)\n",
            "Testing SARIMA(0, 2, 2, 0, 1, 0, 12)\n",
            "Testing SARIMA(0, 2, 2, 0, 1, 1, 12)\n",
            "Testing SARIMA(0, 2, 2, 1, 0, 0, 12)\n",
            "Testing SARIMA(0, 2, 2, 1, 0, 1, 12)\n",
            "Testing SARIMA(0, 2, 2, 1, 1, 0, 12)\n",
            "Testing SARIMA(0, 2, 2, 1, 1, 1, 12)\n",
            "Testing SARIMA(1, 0, 0, 0, 0, 0, 12)\n",
            "Testing SARIMA(1, 0, 0, 0, 0, 1, 12)\n",
            "Testing SARIMA(1, 0, 0, 0, 1, 0, 12)\n",
            "Testing SARIMA(1, 0, 0, 0, 1, 1, 12)\n",
            "Testing SARIMA(1, 0, 0, 1, 0, 0, 12)\n",
            "Testing SARIMA(1, 0, 0, 1, 0, 1, 12)\n",
            "Testing SARIMA(1, 0, 0, 1, 1, 0, 12)\n",
            "Testing SARIMA(1, 0, 0, 1, 1, 1, 12)\n",
            "Testing SARIMA(1, 0, 1, 0, 0, 0, 12)\n",
            "Testing SARIMA(1, 0, 1, 0, 0, 1, 12)\n",
            "Testing SARIMA(1, 0, 1, 0, 1, 0, 12)\n",
            "Testing SARIMA(1, 0, 1, 0, 1, 1, 12)\n",
            "Testing SARIMA(1, 0, 1, 1, 0, 0, 12)\n",
            "Testing SARIMA(1, 0, 1, 1, 0, 1, 12)\n",
            "Testing SARIMA(1, 0, 1, 1, 1, 0, 12)\n",
            "Testing SARIMA(1, 0, 1, 1, 1, 1, 12)\n",
            "Testing SARIMA(1, 0, 2, 0, 0, 0, 12)\n",
            "Testing SARIMA(1, 0, 2, 0, 0, 1, 12)\n",
            "Testing SARIMA(1, 0, 2, 0, 1, 0, 12)\n",
            "Testing SARIMA(1, 0, 2, 0, 1, 1, 12)\n",
            "Testing SARIMA(1, 0, 2, 1, 0, 0, 12)\n",
            "Testing SARIMA(1, 0, 2, 1, 0, 1, 12)\n",
            "Testing SARIMA(1, 0, 2, 1, 1, 0, 12)\n",
            "Testing SARIMA(1, 0, 2, 1, 1, 1, 12)\n",
            "Testing SARIMA(1, 1, 0, 0, 0, 0, 12)\n",
            "Testing SARIMA(1, 1, 0, 0, 0, 1, 12)\n",
            "Testing SARIMA(1, 1, 0, 0, 1, 0, 12)\n",
            "Testing SARIMA(1, 1, 0, 0, 1, 1, 12)\n",
            "Testing SARIMA(1, 1, 0, 1, 0, 0, 12)\n",
            "Testing SARIMA(1, 1, 0, 1, 0, 1, 12)\n",
            "Testing SARIMA(1, 1, 0, 1, 1, 0, 12)\n",
            "Testing SARIMA(1, 1, 0, 1, 1, 1, 12)\n",
            "Testing SARIMA(1, 1, 1, 0, 0, 0, 12)\n",
            "Testing SARIMA(1, 1, 1, 0, 0, 1, 12)\n",
            "Testing SARIMA(1, 1, 1, 0, 1, 0, 12)\n",
            "Testing SARIMA(1, 1, 1, 0, 1, 1, 12)\n",
            "Testing SARIMA(1, 1, 1, 1, 0, 0, 12)\n",
            "Testing SARIMA(1, 1, 1, 1, 0, 1, 12)\n",
            "Testing SARIMA(1, 1, 1, 1, 1, 0, 12)\n",
            "Testing SARIMA(1, 1, 1, 1, 1, 1, 12)\n",
            "Testing SARIMA(1, 1, 2, 0, 0, 0, 12)\n",
            "Testing SARIMA(1, 1, 2, 0, 0, 1, 12)\n",
            "Testing SARIMA(1, 1, 2, 0, 1, 0, 12)\n",
            "Testing SARIMA(1, 1, 2, 0, 1, 1, 12)\n",
            "Testing SARIMA(1, 1, 2, 1, 0, 0, 12)\n",
            "Testing SARIMA(1, 1, 2, 1, 0, 1, 12)\n",
            "Testing SARIMA(1, 1, 2, 1, 1, 0, 12)\n",
            "Testing SARIMA(1, 1, 2, 1, 1, 1, 12)\n",
            "Testing SARIMA(1, 2, 0, 0, 0, 0, 12)\n",
            "Testing SARIMA(1, 2, 0, 0, 0, 1, 12)\n",
            "Testing SARIMA(1, 2, 0, 0, 1, 0, 12)\n",
            "Testing SARIMA(1, 2, 0, 0, 1, 1, 12)\n",
            "Testing SARIMA(1, 2, 0, 1, 0, 0, 12)\n",
            "Testing SARIMA(1, 2, 0, 1, 0, 1, 12)\n",
            "Testing SARIMA(1, 2, 0, 1, 1, 0, 12)\n",
            "Testing SARIMA(1, 2, 0, 1, 1, 1, 12)\n",
            "Testing SARIMA(1, 2, 1, 0, 0, 0, 12)\n",
            "Testing SARIMA(1, 2, 1, 0, 0, 1, 12)\n",
            "Testing SARIMA(1, 2, 1, 0, 1, 0, 12)\n",
            "Testing SARIMA(1, 2, 1, 0, 1, 1, 12)\n",
            "Testing SARIMA(1, 2, 1, 1, 0, 0, 12)\n",
            "Testing SARIMA(1, 2, 1, 1, 0, 1, 12)\n",
            "Testing SARIMA(1, 2, 1, 1, 1, 0, 12)\n",
            "Testing SARIMA(1, 2, 1, 1, 1, 1, 12)\n",
            "Testing SARIMA(1, 2, 2, 0, 0, 0, 12)\n",
            "Testing SARIMA(1, 2, 2, 0, 0, 1, 12)\n",
            "Testing SARIMA(1, 2, 2, 0, 1, 0, 12)\n",
            "Testing SARIMA(1, 2, 2, 0, 1, 1, 12)\n",
            "Testing SARIMA(1, 2, 2, 1, 0, 0, 12)\n",
            "Testing SARIMA(1, 2, 2, 1, 0, 1, 12)\n",
            "Testing SARIMA(1, 2, 2, 1, 1, 0, 12)\n",
            "Testing SARIMA(1, 2, 2, 1, 1, 1, 12)\n",
            "Testing SARIMA(2, 0, 0, 0, 0, 0, 12)\n",
            "Testing SARIMA(2, 0, 0, 0, 0, 1, 12)\n",
            "Testing SARIMA(2, 0, 0, 0, 1, 0, 12)\n",
            "Testing SARIMA(2, 0, 0, 0, 1, 1, 12)\n",
            "Testing SARIMA(2, 0, 0, 1, 0, 0, 12)\n",
            "Testing SARIMA(2, 0, 0, 1, 0, 1, 12)\n",
            "Testing SARIMA(2, 0, 0, 1, 1, 0, 12)\n",
            "Testing SARIMA(2, 0, 0, 1, 1, 1, 12)\n",
            "Testing SARIMA(2, 0, 1, 0, 0, 0, 12)\n",
            "Testing SARIMA(2, 0, 1, 0, 0, 1, 12)\n",
            "Testing SARIMA(2, 0, 1, 0, 1, 0, 12)\n",
            "Testing SARIMA(2, 0, 1, 0, 1, 1, 12)\n",
            "Testing SARIMA(2, 0, 1, 1, 0, 0, 12)\n",
            "Testing SARIMA(2, 0, 1, 1, 0, 1, 12)\n",
            "Testing SARIMA(2, 0, 1, 1, 1, 0, 12)\n",
            "Testing SARIMA(2, 0, 1, 1, 1, 1, 12)\n",
            "Testing SARIMA(2, 0, 2, 0, 0, 0, 12)\n",
            "Testing SARIMA(2, 0, 2, 0, 0, 1, 12)\n",
            "Testing SARIMA(2, 0, 2, 0, 1, 0, 12)\n",
            "Testing SARIMA(2, 0, 2, 0, 1, 1, 12)\n"
          ]
        },
        {
          "output_type": "stream",
          "name": "stderr",
          "text": [
            "/usr/local/lib/python3.11/dist-packages/statsmodels/base/model.py:607: ConvergenceWarning: Maximum Likelihood optimization failed to converge. Check mle_retvals\n",
            "  warnings.warn(\"Maximum Likelihood optimization failed to \"\n"
          ]
        },
        {
          "output_type": "stream",
          "name": "stdout",
          "text": [
            "Testing SARIMA(2, 0, 2, 1, 0, 0, 12)\n",
            "Testing SARIMA(2, 0, 2, 1, 0, 1, 12)\n"
          ]
        },
        {
          "output_type": "stream",
          "name": "stderr",
          "text": [
            "/usr/local/lib/python3.11/dist-packages/statsmodels/base/model.py:607: ConvergenceWarning: Maximum Likelihood optimization failed to converge. Check mle_retvals\n",
            "  warnings.warn(\"Maximum Likelihood optimization failed to \"\n"
          ]
        },
        {
          "output_type": "stream",
          "name": "stdout",
          "text": [
            "Testing SARIMA(2, 0, 2, 1, 1, 0, 12)\n",
            "Testing SARIMA(2, 0, 2, 1, 1, 1, 12)\n"
          ]
        },
        {
          "output_type": "stream",
          "name": "stderr",
          "text": [
            "/usr/local/lib/python3.11/dist-packages/statsmodels/base/model.py:607: ConvergenceWarning: Maximum Likelihood optimization failed to converge. Check mle_retvals\n",
            "  warnings.warn(\"Maximum Likelihood optimization failed to \"\n"
          ]
        },
        {
          "output_type": "stream",
          "name": "stdout",
          "text": [
            "Testing SARIMA(2, 1, 0, 0, 0, 0, 12)\n",
            "Testing SARIMA(2, 1, 0, 0, 0, 1, 12)\n",
            "Testing SARIMA(2, 1, 0, 0, 1, 0, 12)\n",
            "Testing SARIMA(2, 1, 0, 0, 1, 1, 12)\n",
            "Testing SARIMA(2, 1, 0, 1, 0, 0, 12)\n",
            "Testing SARIMA(2, 1, 0, 1, 0, 1, 12)\n",
            "Testing SARIMA(2, 1, 0, 1, 1, 0, 12)\n",
            "Testing SARIMA(2, 1, 0, 1, 1, 1, 12)\n",
            "Testing SARIMA(2, 1, 1, 0, 0, 0, 12)\n",
            "Testing SARIMA(2, 1, 1, 0, 0, 1, 12)\n",
            "Testing SARIMA(2, 1, 1, 0, 1, 0, 12)\n",
            "Testing SARIMA(2, 1, 1, 0, 1, 1, 12)\n",
            "Testing SARIMA(2, 1, 1, 1, 0, 0, 12)\n",
            "Testing SARIMA(2, 1, 1, 1, 0, 1, 12)\n"
          ]
        },
        {
          "output_type": "stream",
          "name": "stderr",
          "text": [
            "/usr/local/lib/python3.11/dist-packages/statsmodels/base/model.py:607: ConvergenceWarning: Maximum Likelihood optimization failed to converge. Check mle_retvals\n",
            "  warnings.warn(\"Maximum Likelihood optimization failed to \"\n"
          ]
        },
        {
          "output_type": "stream",
          "name": "stdout",
          "text": [
            "Testing SARIMA(2, 1, 1, 1, 1, 0, 12)\n",
            "Testing SARIMA(2, 1, 1, 1, 1, 1, 12)\n",
            "Testing SARIMA(2, 1, 2, 0, 0, 0, 12)\n",
            "Testing SARIMA(2, 1, 2, 0, 0, 1, 12)\n",
            "Testing SARIMA(2, 1, 2, 0, 1, 0, 12)\n",
            "Testing SARIMA(2, 1, 2, 0, 1, 1, 12)\n",
            "Testing SARIMA(2, 1, 2, 1, 0, 0, 12)\n",
            "Testing SARIMA(2, 1, 2, 1, 0, 1, 12)\n"
          ]
        },
        {
          "output_type": "stream",
          "name": "stderr",
          "text": [
            "/usr/local/lib/python3.11/dist-packages/statsmodels/base/model.py:607: ConvergenceWarning: Maximum Likelihood optimization failed to converge. Check mle_retvals\n",
            "  warnings.warn(\"Maximum Likelihood optimization failed to \"\n"
          ]
        },
        {
          "output_type": "stream",
          "name": "stdout",
          "text": [
            "Testing SARIMA(2, 1, 2, 1, 1, 0, 12)\n",
            "Testing SARIMA(2, 1, 2, 1, 1, 1, 12)\n",
            "Testing SARIMA(2, 2, 0, 0, 0, 0, 12)\n",
            "Testing SARIMA(2, 2, 0, 0, 0, 1, 12)\n",
            "Testing SARIMA(2, 2, 0, 0, 1, 0, 12)\n",
            "Testing SARIMA(2, 2, 0, 0, 1, 1, 12)\n",
            "Testing SARIMA(2, 2, 0, 1, 0, 0, 12)\n",
            "Testing SARIMA(2, 2, 0, 1, 0, 1, 12)\n",
            "Testing SARIMA(2, 2, 0, 1, 1, 0, 12)\n",
            "Testing SARIMA(2, 2, 0, 1, 1, 1, 12)\n",
            "Testing SARIMA(2, 2, 1, 0, 0, 0, 12)\n",
            "Testing SARIMA(2, 2, 1, 0, 0, 1, 12)\n",
            "Testing SARIMA(2, 2, 1, 0, 1, 0, 12)\n",
            "Testing SARIMA(2, 2, 1, 0, 1, 1, 12)\n",
            "Testing SARIMA(2, 2, 1, 1, 0, 0, 12)\n",
            "Testing SARIMA(2, 2, 1, 1, 0, 1, 12)\n",
            "Testing SARIMA(2, 2, 1, 1, 1, 0, 12)\n",
            "Testing SARIMA(2, 2, 1, 1, 1, 1, 12)\n",
            "Testing SARIMA(2, 2, 2, 0, 0, 0, 12)\n",
            "Testing SARIMA(2, 2, 2, 0, 0, 1, 12)\n"
          ]
        },
        {
          "output_type": "stream",
          "name": "stderr",
          "text": [
            "/usr/local/lib/python3.11/dist-packages/statsmodels/base/model.py:607: ConvergenceWarning: Maximum Likelihood optimization failed to converge. Check mle_retvals\n",
            "  warnings.warn(\"Maximum Likelihood optimization failed to \"\n"
          ]
        },
        {
          "output_type": "stream",
          "name": "stdout",
          "text": [
            "Testing SARIMA(2, 2, 2, 0, 1, 0, 12)\n",
            "Testing SARIMA(2, 2, 2, 0, 1, 1, 12)\n"
          ]
        },
        {
          "output_type": "stream",
          "name": "stderr",
          "text": [
            "/usr/local/lib/python3.11/dist-packages/statsmodels/base/model.py:607: ConvergenceWarning: Maximum Likelihood optimization failed to converge. Check mle_retvals\n",
            "  warnings.warn(\"Maximum Likelihood optimization failed to \"\n"
          ]
        },
        {
          "output_type": "stream",
          "name": "stdout",
          "text": [
            "Testing SARIMA(2, 2, 2, 1, 0, 0, 12)\n"
          ]
        },
        {
          "output_type": "stream",
          "name": "stderr",
          "text": [
            "/usr/local/lib/python3.11/dist-packages/statsmodels/base/model.py:607: ConvergenceWarning: Maximum Likelihood optimization failed to converge. Check mle_retvals\n",
            "  warnings.warn(\"Maximum Likelihood optimization failed to \"\n"
          ]
        },
        {
          "output_type": "stream",
          "name": "stdout",
          "text": [
            "Testing SARIMA(2, 2, 2, 1, 0, 1, 12)\n"
          ]
        },
        {
          "output_type": "stream",
          "name": "stderr",
          "text": [
            "/usr/local/lib/python3.11/dist-packages/statsmodels/base/model.py:607: ConvergenceWarning: Maximum Likelihood optimization failed to converge. Check mle_retvals\n",
            "  warnings.warn(\"Maximum Likelihood optimization failed to \"\n"
          ]
        },
        {
          "output_type": "stream",
          "name": "stdout",
          "text": [
            "Testing SARIMA(2, 2, 2, 1, 1, 0, 12)\n",
            "Testing SARIMA(2, 2, 2, 1, 1, 1, 12)\n"
          ]
        },
        {
          "output_type": "stream",
          "name": "stderr",
          "text": [
            "/usr/local/lib/python3.11/dist-packages/statsmodels/base/model.py:607: ConvergenceWarning: Maximum Likelihood optimization failed to converge. Check mle_retvals\n",
            "  warnings.warn(\"Maximum Likelihood optimization failed to \"\n"
          ]
        },
        {
          "output_type": "stream",
          "name": "stdout",
          "text": [
            "\n",
            "✅ Best SARIMA model: SARIMA(0, 2, 2, 0, 1, 1, 12) with AIC = 4384.626998007168\n",
            "                                      SARIMAX Results                                       \n",
            "============================================================================================\n",
            "Dep. Variable:                                    y   No. Observations:                  337\n",
            "Model:             SARIMAX(0, 2, 2)x(0, 1, [1], 12)   Log Likelihood               -2188.313\n",
            "Date:                              Tue, 11 Mar 2025   AIC                           4384.627\n",
            "Time:                                      09:57:05   BIC                           4399.547\n",
            "Sample:                                  01-31-1990   HQIC                          4390.593\n",
            "                                       - 01-31-2018                                         \n",
            "Covariance Type:                                opg                                         \n",
            "==============================================================================\n",
            "                 coef    std err          z      P>|z|      [0.025      0.975]\n",
            "------------------------------------------------------------------------------\n",
            "ma.L1         -1.1493      0.156     -7.352      0.000      -1.456      -0.843\n",
            "ma.L2          0.1493      0.054      2.774      0.006       0.044       0.255\n",
            "ma.S.L12      -1.0455      0.100    -10.434      0.000      -1.242      -0.849\n",
            "sigma2      7.288e+04   2.23e-06   3.27e+10      0.000    7.29e+04    7.29e+04\n",
            "===================================================================================\n",
            "Ljung-Box (L1) (Q):                   0.07   Jarque-Bera (JB):               129.40\n",
            "Prob(Q):                              0.80   Prob(JB):                         0.00\n",
            "Heteroskedasticity (H):               0.36   Skew:                            -0.18\n",
            "Prob(H) (two-sided):                  0.00   Kurtosis:                         6.15\n",
            "===================================================================================\n",
            "\n",
            "Warnings:\n",
            "[1] Covariance matrix calculated using the outer product of gradients (complex-step).\n",
            "[2] Covariance matrix is singular or near-singular, with condition number 3.37e+26. Standard errors may be unstable.\n",
            "SARIMA Model Accuracy for Resale Transactions:\n",
            "MAE: 723.44\n",
            "MSE: 579767.68\n",
            "RMSE: 761.42\n"
          ]
        }
      ]
    },
    {
      "cell_type": "markdown",
      "source": [
        "# **Resale Transactions Forecasting Visualisation**"
      ],
      "metadata": {
        "id": "ruZah9ZpmnSB"
      }
    },
    {
      "cell_type": "code",
      "source": [
        "# ✅ Generate correct future date range\n",
        "future_dates_trans = pd.date_range(start=last_date_trans + pd.DateOffset(months=1), periods=forecast_steps_trans, freq='MS')\n",
        "\n",
        "# ✅ Plot the extended forecast\n",
        "plt.figure(figsize=(18, 5))\n",
        "plt.plot(monthly_transactions, label=\"Actual Transactions\")\n",
        "plt.plot(future_dates_trans, forecast_trans, label=\"Forecasted Transactions for 2025\", linestyle=\"dashed\")\n",
        "\n",
        "# ✅ Set x-axis format and limits for **monthly display**\n",
        "plt.xlim(pd.Timestamp(\"2024-01-01\"), pd.Timestamp(\"2025-12-31\"))  # Restrict x-axis to Jan 2024 - Dec 2025\n",
        "plt.gca().xaxis.set_major_locator(mdates.MonthLocator())  # Show every month\n",
        "plt.gca().xaxis.set_major_formatter(mdates.DateFormatter(\"%Y-%m\"))  # Format as YYYY-MM\n",
        "\n",
        "# ✅ Rotate the labels for better readability\n",
        "plt.xticks(rotation=45, ha=\"right\")\n",
        "\n",
        "# ✅ Labels & Title\n",
        "plt.title(\"Extended Monthly Resale Transactions Forecast (SARIMA)\")\n",
        "plt.xlabel(\"Month\")\n",
        "plt.ylabel(\"Number of Transactions\")\n",
        "plt.legend()\n",
        "plt.show()"
      ],
      "metadata": {
        "colab": {
          "base_uri": "https://localhost:8080/",
          "height": 524
        },
        "id": "sq86ggFAeM_w",
        "outputId": "11b186c2-70ff-4bfa-ba09-58d10e24290c"
      },
      "execution_count": 6,
      "outputs": [
        {
          "output_type": "display_data",
          "data": {
            "text/plain": [
              "<Figure size 1800x500 with 1 Axes>"
            ],
            "image/png": "[encoded data removed]"
          },
          "metadata": {}
        }
      ]
    },
    {
      "cell_type": "code",
      "source": [
        "import joblib\n",
        "\n",
        "# Save models\n",
        "joblib.dump(sarima_price_result, \"best_sarima_price.pkl\")\n",
        "joblib.dump(sarima_trans_result, \"best_sarima_trans.pkl\")\n",
        "\n",
        "# Load models\n",
        "best_sarima_price = joblib.load(\"best_sarima_price.pkl\")\n",
        "best_sarima_trans = joblib.load(\"best_sarima_trans.pkl\")\n"
      ],
      "metadata": {
        "id": "J1Hmr-jJneMR"
      },
      "execution_count": 8,
      "outputs": []
    }
  ]
}