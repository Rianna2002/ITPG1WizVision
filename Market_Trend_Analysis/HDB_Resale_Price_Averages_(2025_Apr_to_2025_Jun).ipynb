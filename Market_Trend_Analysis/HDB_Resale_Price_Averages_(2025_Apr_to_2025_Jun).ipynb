{
  "nbformat": 4,
  "nbformat_minor": 0,
  "metadata": {
    "colab": {
      "provenance": []
    },
    "kernelspec": {
      "name": "python3",
      "display_name": "Python 3"
    },
    "language_info": {
      "name": "python"
    }
  },
  "cells": [
    {
      "cell_type": "code",
      "execution_count": 1,
      "metadata": {
        "id": "vWPSttPo4lkr"
      },
      "outputs": [],
      "source": [
        "import pandas as pd"
      ]
    },
    {
      "cell_type": "code",
      "source": [
        "# Load dataset\n",
        "file_path = 'Resale flat prices based on registration date from Jan-2017 onwards.csv'\n",
        "df = pd.read_csv(file_path)"
      ],
      "metadata": {
        "id": "rnbXL3sv44yE"
      },
      "execution_count": 2,
      "outputs": []
    },
    {
      "cell_type": "code",
      "source": [
        "# Filter for months 2025-04 to 2025-06 and create a copy\n",
        "target_months = ['2025-04', '2025-05', '2025-06']\n",
        "filtered_df = df[df['month'].isin(target_months)].copy()"
      ],
      "metadata": {
        "id": "nQbKo_rO46Tc"
      },
      "execution_count": 5,
      "outputs": []
    },
    {
      "cell_type": "code",
      "source": [
        "# Create floor_area_sqm bins\n",
        "bins = [0, 20, 40, 60, 80, 100, 120, 140, 160, 1000]\n",
        "labels = ['0-20', '21-40', '41-60', '61-80', '81-100', '101-120', '121-140', '141-160', '161+']\n",
        "filtered_df['floor_area_range'] = pd.cut(filtered_df['floor_area_sqm'], bins=bins, labels=labels)\n"
      ],
      "metadata": {
        "id": "sBfUcpKe49E0"
      },
      "execution_count": 7,
      "outputs": []
    },
    {
      "cell_type": "code",
      "source": [
        "# Group and compute average resale price\n",
        "grouped_df = filtered_df.groupby(\n",
        "    ['month', 'town', 'flat_type', 'storey_range', 'floor_area_range', 'flat_model'],\n",
        "    observed=True\n",
        ")['resale_price'].mean().reset_index()"
      ],
      "metadata": {
        "id": "a1GigUPy5ZoU"
      },
      "execution_count": 9,
      "outputs": []
    },
    {
      "cell_type": "code",
      "source": [
        "# Round resale_price for better readability\n",
        "grouped_df['resale_price'] = grouped_df['resale_price'].round(2)"
      ],
      "metadata": {
        "id": "XEPOe51M5k3M"
      },
      "execution_count": 10,
      "outputs": []
    },
    {
      "cell_type": "code",
      "source": [
        "# Drop rows where resale_price is NaN (if any)\n",
        "grouped_df = grouped_df.dropna(subset=['resale_price'])"
      ],
      "metadata": {
        "id": "f1caLcK65lgj"
      },
      "execution_count": 11,
      "outputs": []
    },
    {
      "cell_type": "code",
      "source": [
        "# Output result\n",
        "print(grouped_df)\n",
        "\n",
        "# Optional: Save to CSV\n",
        "grouped_df.to_csv('hdb_resale_summary_2025_04_to_06.csv', index=False)"
      ],
      "metadata": {
        "colab": {
          "base_uri": "https://localhost:8080/"
        },
        "id": "drX6hAKC5pA7",
        "outputId": "cc390385-8886-419f-a709-2c7be44ff0f9"
      },
      "execution_count": 12,
      "outputs": [
        {
          "output_type": "stream",
          "name": "stdout",
          "text": [
            "        month        town flat_type storey_range floor_area_range  \\\n",
            "0     2025-04  ANG MO KIO    3 ROOM     01 TO 03            41-60   \n",
            "1     2025-04  ANG MO KIO    3 ROOM     01 TO 03            61-80   \n",
            "2     2025-04  ANG MO KIO    3 ROOM     01 TO 03            61-80   \n",
            "3     2025-04  ANG MO KIO    3 ROOM     01 TO 03           81-100   \n",
            "4     2025-04  ANG MO KIO    3 ROOM     04 TO 06            61-80   \n",
            "...       ...         ...       ...          ...              ...   \n",
            "2251  2025-06      YISHUN    4 ROOM     04 TO 06           81-100   \n",
            "2252  2025-06      YISHUN    4 ROOM     07 TO 09           81-100   \n",
            "2253  2025-06      YISHUN    4 ROOM     10 TO 12           81-100   \n",
            "2254  2025-06      YISHUN    4 ROOM     10 TO 12           81-100   \n",
            "2255  2025-06      YISHUN    5 ROOM     10 TO 12          121-140   \n",
            "\n",
            "          flat_model  resale_price  \n",
            "0           Improved     408000.00  \n",
            "1            Model A     650000.00  \n",
            "2     New Generation     424796.00  \n",
            "3     New Generation     535000.00  \n",
            "4     New Generation     429164.67  \n",
            "...              ...           ...  \n",
            "2251      Simplified     493944.00  \n",
            "2252         Model A     626000.00  \n",
            "2253         Model A     575000.00  \n",
            "2254      Simplified     530000.00  \n",
            "2255        Improved     850000.00  \n",
            "\n",
            "[2256 rows x 7 columns]\n"
          ]
        }
      ]
    }
  ]
}