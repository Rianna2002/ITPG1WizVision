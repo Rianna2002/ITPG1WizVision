{
  "nbformat": 4,
  "nbformat_minor": 0,
  "metadata": {
    "colab": {
      "provenance": []
    },
    "kernelspec": {
      "name": "python3",
      "display_name": "Python 3"
    },
    "language_info": {
      "name": "python"
    }
  },
  "cells": [
    {
      "cell_type": "code",
      "execution_count": null,
      "metadata": {
        "colab": {
          "base_uri": "https://localhost:8080/"
        },
        "id": "jLejUl-JsVS5",
        "outputId": "6924f1f8-1b46-4a53-e44d-55cdc48a7a62"
      },
      "outputs": [
        {
          "output_type": "stream",
          "name": "stdout",
          "text": [
            "Mounted at /content/drive\n"
          ]
        }
      ],
      "source": [
        "from google.colab import drive\n",
        "drive.mount('/content/drive')"
      ]
    },
    {
      "cell_type": "code",
      "source": [
        "import pandas as pd\n",
        "\n",
        "file_path = '/content/drive/My Drive/modified_flat_model.csv'\n",
        "raw_data = pd.read_csv(file_path)"
      ],
      "metadata": {
        "id": "2qeVoEJnsb_S"
      },
      "execution_count": null,
      "outputs": []
    },
    {
      "cell_type": "code",
      "source": [
        "print(raw_data.head())"
      ],
      "metadata": {
        "colab": {
          "base_uri": "https://localhost:8080/"
        },
        "id": "FgrUp5cTsc1a",
        "outputId": "31fe9ca7-bb98-4b5c-f92d-612538369bee"
      },
      "execution_count": null,
      "outputs": [
        {
          "output_type": "stream",
          "name": "stdout",
          "text": [
            "     month        town flat_type block        street_name storey_range  \\\n",
            "0  2015-01  ANG MO KIO    3 ROOM   174   ANG MO KIO AVE 4     07 TO 09   \n",
            "1  2015-01  ANG MO KIO    3 ROOM   541  ANG MO KIO AVE 10     01 TO 03   \n",
            "2  2015-01  ANG MO KIO    3 ROOM   163   ANG MO KIO AVE 4     01 TO 03   \n",
            "3  2015-01  ANG MO KIO    3 ROOM   446  ANG MO KIO AVE 10     01 TO 03   \n",
            "4  2015-01  ANG MO KIO    3 ROOM   557  ANG MO KIO AVE 10     07 TO 09   \n",
            "\n",
            "   floor_area_sqm      flat_model  lease_commence_date  resale_price  \\\n",
            "0            60.0        IMPROVED                 1986      255000.0   \n",
            "1            68.0  NEW GENERATION                 1981      275000.0   \n",
            "2            69.0  NEW GENERATION                 1980      285000.0   \n",
            "3            68.0  NEW GENERATION                 1979      290000.0   \n",
            "4            68.0  NEW GENERATION                 1980      290000.0   \n",
            "\n",
            "   remaining_lease  \n",
            "0              840  \n",
            "1              780  \n",
            "2              768  \n",
            "3              756  \n",
            "4              768  \n"
          ]
        }
      ]
    },
    {
      "cell_type": "code",
      "source": [
        "categorical_columns = [\"town\", \"flat_type\", \"storey_range\", \"flat_model\"]\n",
        "\n",
        "# Print unique categories and their count\n",
        "for col in categorical_columns:\n",
        "    unique_values = raw_data[col].unique()\n",
        "    print(f\"Column: {col}\")\n",
        "    print(f\"Number of unique categories: {len(unique_values)}\")\n",
        "    print(\"Categories:\", unique_values)\n",
        "    print(\"-\" * 50)"
      ],
      "metadata": {
        "colab": {
          "base_uri": "https://localhost:8080/"
        },
        "id": "RxuLZYQWsdzm",
        "outputId": "e9c6d9c5-055c-40e9-dadf-894fba803870"
      },
      "execution_count": null,
      "outputs": [
        {
          "output_type": "stream",
          "name": "stdout",
          "text": [
            "Column: town\n",
            "Number of unique categories: 26\n",
            "Categories: ['ANG MO KIO' 'BEDOK' 'BISHAN' 'BUKIT BATOK' 'BUKIT MERAH' 'BUKIT PANJANG'\n",
            " 'BUKIT TIMAH' 'CENTRAL AREA' 'CHOA CHU KANG' 'CLEMENTI' 'GEYLANG'\n",
            " 'HOUGANG' 'JURONG EAST' 'JURONG WEST' 'KALLANG/WHAMPOA' 'MARINE PARADE'\n",
            " 'PASIR RIS' 'PUNGGOL' 'QUEENSTOWN' 'SEMBAWANG' 'SENGKANG' 'SERANGOON'\n",
            " 'TAMPINES' 'TOA PAYOH' 'WOODLANDS' 'YISHUN']\n",
            "--------------------------------------------------\n",
            "Column: flat_type\n",
            "Number of unique categories: 7\n",
            "Categories: ['3 ROOM' '4 ROOM' '5 ROOM' '2 ROOM' 'EXECUTIVE' '1 ROOM'\n",
            " 'MULTI-GENERATION']\n",
            "--------------------------------------------------\n",
            "Column: storey_range\n",
            "Number of unique categories: 17\n",
            "Categories: ['07 TO 09' '01 TO 03' '13 TO 15' '10 TO 12' '04 TO 06' '19 TO 21'\n",
            " '16 TO 18' '22 TO 24' '25 TO 27' '28 TO 30' '34 TO 36' '46 TO 48'\n",
            " '31 TO 33' '37 TO 39' '43 TO 45' '40 TO 42' '49 TO 51']\n",
            "--------------------------------------------------\n",
            "Column: flat_model\n",
            "Number of unique categories: 21\n",
            "Categories: ['IMPROVED' 'NEW GENERATION' 'MODEL A' 'STANDARD' 'SIMPLIFIED'\n",
            " 'PREMIUM APARTMENT' 'MAISONETTE' 'APARTMENT' 'MODEL A2' 'TYPE S1'\n",
            " 'TYPE S2' 'ADJOINED FLAT' 'TERRACE' 'DBSS' 'MODEL A-MAISONETTE'\n",
            " 'PREMIUM MAISONETTE' 'MULTI GENERATION' 'PREMIUM APARTMENT LOFT'\n",
            " 'IMPROVED-MAISONETTE' '2-ROOM' '3GEN']\n",
            "--------------------------------------------------\n"
          ]
        }
      ]
    },
    {
      "cell_type": "code",
      "source": [
        "town_order = [\n",
        "    'ANG MO KIO', 'BEDOK', 'BISHAN', 'BUKIT BATOK', 'BUKIT MERAH', 'BUKIT PANJANG',\n",
        "    'BUKIT TIMAH', 'CENTRAL AREA', 'CHOA CHU KANG', 'CLEMENTI', 'GEYLANG',\n",
        "    'HOUGANG', 'JURONG EAST', 'JURONG WEST', 'KALLANG/WHAMPOA', 'MARINE PARADE',\n",
        "    'PASIR RIS', 'PUNGGOL', 'QUEENSTOWN', 'SEMBAWANG', 'SENGKANG', 'SERANGOON',\n",
        "    'TAMPINES', 'TOA PAYOH', 'WOODLANDS', 'YISHUN'\n",
        "]\n",
        "\n",
        "flat_type_order = ['1 ROOM', '2 ROOM', '3 ROOM', '4 ROOM', '5 ROOM', 'MULTI-GENERATION', 'EXECUTIVE']\n",
        "\n",
        "storey_range_order = [\n",
        "    '01 TO 03', '04 TO 06', '07 TO 09', '10 TO 12', '13 TO 15', '16 TO 18', '19 TO 21',\n",
        "    '22 TO 24', '25 TO 27', '28 TO 30', '31 TO 33', '34 TO 36', '37 TO 39', '40 TO 42',\n",
        "    '43 TO 45', '46 TO 48', '49 TO 51'\n",
        "]\n",
        "\n",
        "flat_model_order = [\n",
        "    'IMPROVED', 'NEW GENERATION', 'MODEL A', 'STANDARD', 'SIMPLIFIED',\n",
        "    'PREMIUM APARTMENT', 'MAISONETTE', 'APARTMENT', 'MODEL A2', 'TYPE S1',\n",
        "    'TYPE S2', 'ADJOINED FLAT', 'TERRACE', 'DBSS', 'MODEL A-MAISONETTE',\n",
        "    'PREMIUM MAISONETTE', 'MULTI GENERATION', 'PREMIUM APARTMENT LOFT',\n",
        "    'IMPROVED-MAISONETTE', '2-ROOM', '3GEN'\n",
        "]\n",
        "\n",
        "# One-hot encode 'town' and 'flat_model'\n",
        "raw_data = pd.get_dummies(raw_data, columns=['town', 'flat_model'], prefix=['town', 'flat_model'], dtype=int)\n",
        "\n",
        "# Label encode 'flat_type' and 'storey_range' based on specified order\n",
        "raw_data['flat_type'] = raw_data['flat_type'].map({val: idx for idx, val in enumerate(flat_type_order)})\n",
        "raw_data['storey_range'] = raw_data['storey_range'].map({val: idx for idx, val in enumerate(storey_range_order)})\n",
        "\n",
        "# Display first few rows to verify\n",
        "print(raw_data.head())\n"
      ],
      "metadata": {
        "colab": {
          "base_uri": "https://localhost:8080/"
        },
        "id": "Idw9CFOqsuRc",
        "outputId": "3d7c9ca7-b2a5-447a-b649-288cf771b386"
      },
      "execution_count": null,
      "outputs": [
        {
          "output_type": "stream",
          "name": "stdout",
          "text": [
            "     month  flat_type block        street_name  storey_range  floor_area_sqm  \\\n",
            "0  2015-01          2   174   ANG MO KIO AVE 4             2            60.0   \n",
            "1  2015-01          2   541  ANG MO KIO AVE 10             0            68.0   \n",
            "2  2015-01          2   163   ANG MO KIO AVE 4             0            69.0   \n",
            "3  2015-01          2   446  ANG MO KIO AVE 10             0            68.0   \n",
            "4  2015-01          2   557  ANG MO KIO AVE 10             2            68.0   \n",
            "\n",
            "   lease_commence_date  resale_price  remaining_lease  town_ANG MO KIO  ...  \\\n",
            "0                 1986      255000.0              840                1  ...   \n",
            "1                 1981      275000.0              780                1  ...   \n",
            "2                 1980      285000.0              768                1  ...   \n",
            "3                 1979      290000.0              756                1  ...   \n",
            "4                 1980      290000.0              768                1  ...   \n",
            "\n",
            "   flat_model_MULTI GENERATION  flat_model_NEW GENERATION  \\\n",
            "0                            0                          0   \n",
            "1                            0                          1   \n",
            "2                            0                          1   \n",
            "3                            0                          1   \n",
            "4                            0                          1   \n",
            "\n",
            "   flat_model_PREMIUM APARTMENT  flat_model_PREMIUM APARTMENT LOFT  \\\n",
            "0                             0                                  0   \n",
            "1                             0                                  0   \n",
            "2                             0                                  0   \n",
            "3                             0                                  0   \n",
            "4                             0                                  0   \n",
            "\n",
            "   flat_model_PREMIUM MAISONETTE  flat_model_SIMPLIFIED  flat_model_STANDARD  \\\n",
            "0                              0                      0                    0   \n",
            "1                              0                      0                    0   \n",
            "2                              0                      0                    0   \n",
            "3                              0                      0                    0   \n",
            "4                              0                      0                    0   \n",
            "\n",
            "   flat_model_TERRACE  flat_model_TYPE S1  flat_model_TYPE S2  \n",
            "0                   0                   0                   0  \n",
            "1                   0                   0                   0  \n",
            "2                   0                   0                   0  \n",
            "3                   0                   0                   0  \n",
            "4                   0                   0                   0  \n",
            "\n",
            "[5 rows x 56 columns]\n"
          ]
        }
      ]
    },
    {
      "cell_type": "code",
      "source": [
        "raw_data.to_csv(\"modified_flat_model_one_hot_encoded.csv\", index=False)"
      ],
      "metadata": {
        "id": "j9YJ7WYjsvrp"
      },
      "execution_count": null,
      "outputs": []
    },
    {
      "cell_type": "code",
      "source": [
        "!pip install mlflow"
      ],
      "metadata": {
        "colab": {
          "base_uri": "https://localhost:8080/"
        },
        "id": "unZanbktt4DN",
        "outputId": "9d33db30-4179-4c84-c3b0-78bc83ed8499"
      },
      "execution_count": null,
      "outputs": [
        {
          "output_type": "stream",
          "name": "stdout",
          "text": [
            "Collecting mlflow\n",
            "  Downloading mlflow-3.1.0-py3-none-any.whl.metadata (29 kB)\n",
            "Collecting mlflow-skinny==3.1.0 (from mlflow)\n",
            "  Downloading mlflow_skinny-3.1.0-py3-none-any.whl.metadata (30 kB)\n",
            "Requirement already satisfied: Flask<4 in /usr/local/lib/python3.11/dist-packages (from mlflow) (3.1.1)\n",
            "Collecting alembic!=1.10.0,<2 (from mlflow)\n",
            "  Downloading alembic-1.16.2-py3-none-any.whl.metadata (7.3 kB)\n",
            "Collecting docker<8,>=4.0.0 (from mlflow)\n",
            "  Downloading docker-7.1.0-py3-none-any.whl.metadata (3.8 kB)\n",
            "Collecting graphene<4 (from mlflow)\n",
            "  Downloading graphene-3.4.3-py2.py3-none-any.whl.metadata (6.9 kB)\n",
            "Collecting gunicorn<24 (from mlflow)\n",
            "  Downloading gunicorn-23.0.0-py3-none-any.whl.metadata (4.4 kB)\n",
            "Requirement already satisfied: matplotlib<4 in /usr/local/lib/python3.11/dist-packages (from mlflow) (3.10.0)\n",
            "Requirement already satisfied: numpy<3 in /usr/local/lib/python3.11/dist-packages (from mlflow) (2.0.2)\n",
            "Requirement already satisfied: pandas<3 in /usr/local/lib/python3.11/dist-packages (from mlflow) (2.2.2)\n",
            "Requirement already satisfied: pyarrow<21,>=4.0.0 in /usr/local/lib/python3.11/dist-packages (from mlflow) (18.1.0)\n",
            "Requirement already satisfied: scikit-learn<2 in /usr/local/lib/python3.11/dist-packages (from mlflow) (1.6.1)\n",
            "Requirement already satisfied: scipy<2 in /usr/local/lib/python3.11/dist-packages (from mlflow) (1.15.3)\n",
            "Requirement already satisfied: sqlalchemy<3,>=1.4.0 in /usr/local/lib/python3.11/dist-packages (from mlflow) (2.0.41)\n",
            "Requirement already satisfied: cachetools<7,>=5.0.0 in /usr/local/lib/python3.11/dist-packages (from mlflow-skinny==3.1.0->mlflow) (5.5.2)\n",
            "Requirement already satisfied: click<9,>=7.0 in /usr/local/lib/python3.11/dist-packages (from mlflow-skinny==3.1.0->mlflow) (8.2.1)\n",
            "Requirement already satisfied: cloudpickle<4 in /usr/local/lib/python3.11/dist-packages (from mlflow-skinny==3.1.0->mlflow) (3.1.1)\n",
            "Collecting databricks-sdk<1,>=0.20.0 (from mlflow-skinny==3.1.0->mlflow)\n",
            "  Downloading databricks_sdk-0.57.0-py3-none-any.whl.metadata (39 kB)\n",
            "Requirement already satisfied: fastapi<1 in /usr/local/lib/python3.11/dist-packages (from mlflow-skinny==3.1.0->mlflow) (0.115.12)\n",
            "Requirement already satisfied: gitpython<4,>=3.1.9 in /usr/local/lib/python3.11/dist-packages (from mlflow-skinny==3.1.0->mlflow) (3.1.44)\n",
            "Requirement already satisfied: importlib_metadata!=4.7.0,<9,>=3.7.0 in /usr/local/lib/python3.11/dist-packages (from mlflow-skinny==3.1.0->mlflow) (8.7.0)\n",
            "Collecting opentelemetry-api<3,>=1.9.0 (from mlflow-skinny==3.1.0->mlflow)\n",
            "  Downloading opentelemetry_api-1.34.1-py3-none-any.whl.metadata (1.5 kB)\n",
            "Collecting opentelemetry-sdk<3,>=1.9.0 (from mlflow-skinny==3.1.0->mlflow)\n",
            "  Downloading opentelemetry_sdk-1.34.1-py3-none-any.whl.metadata (1.6 kB)\n",
            "Requirement already satisfied: packaging<26 in /usr/local/lib/python3.11/dist-packages (from mlflow-skinny==3.1.0->mlflow) (24.2)\n",
            "Requirement already satisfied: protobuf<7,>=3.12.0 in /usr/local/lib/python3.11/dist-packages (from mlflow-skinny==3.1.0->mlflow) (5.29.5)\n",
            "Requirement already satisfied: pydantic<3,>=1.10.8 in /usr/local/lib/python3.11/dist-packages (from mlflow-skinny==3.1.0->mlflow) (2.11.5)\n",
            "Requirement already satisfied: pyyaml<7,>=5.1 in /usr/local/lib/python3.11/dist-packages (from mlflow-skinny==3.1.0->mlflow) (6.0.2)\n",
            "Requirement already satisfied: requests<3,>=2.17.3 in /usr/local/lib/python3.11/dist-packages (from mlflow-skinny==3.1.0->mlflow) (2.32.3)\n",
            "Requirement already satisfied: sqlparse<1,>=0.4.0 in /usr/local/lib/python3.11/dist-packages (from mlflow-skinny==3.1.0->mlflow) (0.5.3)\n",
            "Requirement already satisfied: typing-extensions<5,>=4.0.0 in /usr/local/lib/python3.11/dist-packages (from mlflow-skinny==3.1.0->mlflow) (4.14.0)\n",
            "Requirement already satisfied: uvicorn<1 in /usr/local/lib/python3.11/dist-packages (from mlflow-skinny==3.1.0->mlflow) (0.34.3)\n",
            "Requirement already satisfied: Mako in /usr/lib/python3/dist-packages (from alembic!=1.10.0,<2->mlflow) (1.1.3)\n",
            "Requirement already satisfied: urllib3>=1.26.0 in /usr/local/lib/python3.11/dist-packages (from docker<8,>=4.0.0->mlflow) (2.4.0)\n",
            "Requirement already satisfied: blinker>=1.9.0 in /usr/local/lib/python3.11/dist-packages (from Flask<4->mlflow) (1.9.0)\n",
            "Requirement already satisfied: itsdangerous>=2.2.0 in /usr/local/lib/python3.11/dist-packages (from Flask<4->mlflow) (2.2.0)\n",
            "Requirement already satisfied: jinja2>=3.1.2 in /usr/local/lib/python3.11/dist-packages (from Flask<4->mlflow) (3.1.6)\n",
            "Requirement already satisfied: markupsafe>=2.1.1 in /usr/local/lib/python3.11/dist-packages (from Flask<4->mlflow) (3.0.2)\n",
            "Requirement already satisfied: werkzeug>=3.1.0 in /usr/local/lib/python3.11/dist-packages (from Flask<4->mlflow) (3.1.3)\n",
            "Collecting graphql-core<3.3,>=3.1 (from graphene<4->mlflow)\n",
            "  Downloading graphql_core-3.2.6-py3-none-any.whl.metadata (11 kB)\n",
            "Collecting graphql-relay<3.3,>=3.1 (from graphene<4->mlflow)\n",
            "  Downloading graphql_relay-3.2.0-py3-none-any.whl.metadata (12 kB)\n",
            "Requirement already satisfied: python-dateutil<3,>=2.7.0 in /usr/local/lib/python3.11/dist-packages (from graphene<4->mlflow) (2.9.0.post0)\n",
            "Requirement already satisfied: contourpy>=1.0.1 in /usr/local/lib/python3.11/dist-packages (from matplotlib<4->mlflow) (1.3.2)\n",
            "Requirement already satisfied: cycler>=0.10 in /usr/local/lib/python3.11/dist-packages (from matplotlib<4->mlflow) (0.12.1)\n",
            "Requirement already satisfied: fonttools>=4.22.0 in /usr/local/lib/python3.11/dist-packages (from matplotlib<4->mlflow) (4.58.2)\n",
            "Requirement already satisfied: kiwisolver>=1.3.1 in /usr/local/lib/python3.11/dist-packages (from matplotlib<4->mlflow) (1.4.8)\n",
            "Requirement already satisfied: pillow>=8 in /usr/local/lib/python3.11/dist-packages (from matplotlib<4->mlflow) (11.2.1)\n",
            "Requirement already satisfied: pyparsing>=2.3.1 in /usr/local/lib/python3.11/dist-packages (from matplotlib<4->mlflow) (3.2.3)\n",
            "Requirement already satisfied: pytz>=2020.1 in /usr/local/lib/python3.11/dist-packages (from pandas<3->mlflow) (2025.2)\n",
            "Requirement already satisfied: tzdata>=2022.7 in /usr/local/lib/python3.11/dist-packages (from pandas<3->mlflow) (2025.2)\n",
            "Requirement already satisfied: joblib>=1.2.0 in /usr/local/lib/python3.11/dist-packages (from scikit-learn<2->mlflow) (1.5.1)\n",
            "Requirement already satisfied: threadpoolctl>=3.1.0 in /usr/local/lib/python3.11/dist-packages (from scikit-learn<2->mlflow) (3.6.0)\n",
            "Requirement already satisfied: greenlet>=1 in /usr/local/lib/python3.11/dist-packages (from sqlalchemy<3,>=1.4.0->mlflow) (3.2.3)\n",
            "Requirement already satisfied: google-auth~=2.0 in /usr/local/lib/python3.11/dist-packages (from databricks-sdk<1,>=0.20.0->mlflow-skinny==3.1.0->mlflow) (2.38.0)\n",
            "Requirement already satisfied: starlette<0.47.0,>=0.40.0 in /usr/local/lib/python3.11/dist-packages (from fastapi<1->mlflow-skinny==3.1.0->mlflow) (0.46.2)\n",
            "Requirement already satisfied: gitdb<5,>=4.0.1 in /usr/local/lib/python3.11/dist-packages (from gitpython<4,>=3.1.9->mlflow-skinny==3.1.0->mlflow) (4.0.12)\n",
            "Requirement already satisfied: zipp>=3.20 in /usr/local/lib/python3.11/dist-packages (from importlib_metadata!=4.7.0,<9,>=3.7.0->mlflow-skinny==3.1.0->mlflow) (3.23.0)\n",
            "Collecting opentelemetry-semantic-conventions==0.55b1 (from opentelemetry-sdk<3,>=1.9.0->mlflow-skinny==3.1.0->mlflow)\n",
            "  Downloading opentelemetry_semantic_conventions-0.55b1-py3-none-any.whl.metadata (2.5 kB)\n",
            "Requirement already satisfied: annotated-types>=0.6.0 in /usr/local/lib/python3.11/dist-packages (from pydantic<3,>=1.10.8->mlflow-skinny==3.1.0->mlflow) (0.7.0)\n",
            "Requirement already satisfied: pydantic-core==2.33.2 in /usr/local/lib/python3.11/dist-packages (from pydantic<3,>=1.10.8->mlflow-skinny==3.1.0->mlflow) (2.33.2)\n",
            "Requirement already satisfied: typing-inspection>=0.4.0 in /usr/local/lib/python3.11/dist-packages (from pydantic<3,>=1.10.8->mlflow-skinny==3.1.0->mlflow) (0.4.1)\n",
            "Requirement already satisfied: six>=1.5 in /usr/local/lib/python3.11/dist-packages (from python-dateutil<3,>=2.7.0->graphene<4->mlflow) (1.17.0)\n",
            "Requirement already satisfied: charset-normalizer<4,>=2 in /usr/local/lib/python3.11/dist-packages (from requests<3,>=2.17.3->mlflow-skinny==3.1.0->mlflow) (3.4.2)\n",
            "Requirement already satisfied: idna<4,>=2.5 in /usr/local/lib/python3.11/dist-packages (from requests<3,>=2.17.3->mlflow-skinny==3.1.0->mlflow) (3.10)\n",
            "Requirement already satisfied: certifi>=2017.4.17 in /usr/local/lib/python3.11/dist-packages (from requests<3,>=2.17.3->mlflow-skinny==3.1.0->mlflow) (2025.4.26)\n",
            "Requirement already satisfied: h11>=0.8 in /usr/local/lib/python3.11/dist-packages (from uvicorn<1->mlflow-skinny==3.1.0->mlflow) (0.16.0)\n",
            "Requirement already satisfied: smmap<6,>=3.0.1 in /usr/local/lib/python3.11/dist-packages (from gitdb<5,>=4.0.1->gitpython<4,>=3.1.9->mlflow-skinny==3.1.0->mlflow) (5.0.2)\n",
            "Requirement already satisfied: pyasn1-modules>=0.2.1 in /usr/local/lib/python3.11/dist-packages (from google-auth~=2.0->databricks-sdk<1,>=0.20.0->mlflow-skinny==3.1.0->mlflow) (0.4.2)\n",
            "Requirement already satisfied: rsa<5,>=3.1.4 in /usr/local/lib/python3.11/dist-packages (from google-auth~=2.0->databricks-sdk<1,>=0.20.0->mlflow-skinny==3.1.0->mlflow) (4.9.1)\n",
            "Requirement already satisfied: anyio<5,>=3.6.2 in /usr/local/lib/python3.11/dist-packages (from starlette<0.47.0,>=0.40.0->fastapi<1->mlflow-skinny==3.1.0->mlflow) (4.9.0)\n",
            "Requirement already satisfied: sniffio>=1.1 in /usr/local/lib/python3.11/dist-packages (from anyio<5,>=3.6.2->starlette<0.47.0,>=0.40.0->fastapi<1->mlflow-skinny==3.1.0->mlflow) (1.3.1)\n",
            "Requirement already satisfied: pyasn1<0.7.0,>=0.6.1 in /usr/local/lib/python3.11/dist-packages (from pyasn1-modules>=0.2.1->google-auth~=2.0->databricks-sdk<1,>=0.20.0->mlflow-skinny==3.1.0->mlflow) (0.6.1)\n",
            "Downloading mlflow-3.1.0-py3-none-any.whl (24.7 MB)\n",
            "\u001b[2K   \u001b[90m━━━━━━━━━━━━━━━━━━━━━━━━━━━━━━━━━━━━━━━━\u001b[0m \u001b[32m24.7/24.7 MB\u001b[0m \u001b[31m78.2 MB/s\u001b[0m eta \u001b[36m0:00:00\u001b[0m\n",
            "\u001b[?25hDownloading mlflow_skinny-3.1.0-py3-none-any.whl (1.9 MB)\n",
            "\u001b[2K   \u001b[90m━━━━━━━━━━━━━━━━━━━━━━━━━━━━━━━━━━━━━━━━\u001b[0m \u001b[32m1.9/1.9 MB\u001b[0m \u001b[31m75.9 MB/s\u001b[0m eta \u001b[36m0:00:00\u001b[0m\n",
            "\u001b[?25hDownloading alembic-1.16.2-py3-none-any.whl (242 kB)\n",
            "\u001b[2K   \u001b[90m━━━━━━━━━━━━━━━━━━━━━━━━━━━━━━━━━━━━━━━━\u001b[0m \u001b[32m242.7/242.7 kB\u001b[0m \u001b[31m19.4 MB/s\u001b[0m eta \u001b[36m0:00:00\u001b[0m\n",
            "\u001b[?25hDownloading docker-7.1.0-py3-none-any.whl (147 kB)\n",
            "\u001b[2K   \u001b[90m━━━━━━━━━━━━━━━━━━━━━━━━━━━━━━━━━━━━━━━━\u001b[0m \u001b[32m147.8/147.8 kB\u001b[0m \u001b[31m12.0 MB/s\u001b[0m eta \u001b[36m0:00:00\u001b[0m\n",
            "\u001b[?25hDownloading graphene-3.4.3-py2.py3-none-any.whl (114 kB)\n",
            "\u001b[2K   \u001b[90m━━━━━━━━━━━━━━━━━━━━━━━━━━━━━━━━━━━━━━━━\u001b[0m \u001b[32m114.9/114.9 kB\u001b[0m \u001b[31m9.4 MB/s\u001b[0m eta \u001b[36m0:00:00\u001b[0m\n",
            "\u001b[?25hDownloading gunicorn-23.0.0-py3-none-any.whl (85 kB)\n",
            "\u001b[2K   \u001b[90m━━━━━━━━━━━━━━━━━━━━━━━━━━━━━━━━━━━━━━━━\u001b[0m \u001b[32m85.0/85.0 kB\u001b[0m \u001b[31m6.2 MB/s\u001b[0m eta \u001b[36m0:00:00\u001b[0m\n",
            "\u001b[?25hDownloading databricks_sdk-0.57.0-py3-none-any.whl (733 kB)\n",
            "\u001b[2K   \u001b[90m━━━━━━━━━━━━━━━━━━━━━━━━━━━━━━━━━━━━━━━━\u001b[0m \u001b[32m733.8/733.8 kB\u001b[0m \u001b[31m44.6 MB/s\u001b[0m eta \u001b[36m0:00:00\u001b[0m\n",
            "\u001b[?25hDownloading graphql_core-3.2.6-py3-none-any.whl (203 kB)\n",
            "\u001b[2K   \u001b[90m━━━━━━━━━━━━━━━━━━━━━━━━━━━━━━━━━━━━━━━━\u001b[0m \u001b[32m203.4/203.4 kB\u001b[0m \u001b[31m16.4 MB/s\u001b[0m eta \u001b[36m0:00:00\u001b[0m\n",
            "\u001b[?25hDownloading graphql_relay-3.2.0-py3-none-any.whl (16 kB)\n",
            "Downloading opentelemetry_api-1.34.1-py3-none-any.whl (65 kB)\n",
            "\u001b[2K   \u001b[90m━━━━━━━━━━━━━━━━━━━━━━━━━━━━━━━━━━━━━━━━\u001b[0m \u001b[32m65.8/65.8 kB\u001b[0m \u001b[31m5.1 MB/s\u001b[0m eta \u001b[36m0:00:00\u001b[0m\n",
            "\u001b[?25hDownloading opentelemetry_sdk-1.34.1-py3-none-any.whl (118 kB)\n",
            "\u001b[2K   \u001b[90m━━━━━━━━━━━━━━━━━━━━━━━━━━━━━━━━━━━━━━━━\u001b[0m \u001b[32m118.5/118.5 kB\u001b[0m \u001b[31m8.0 MB/s\u001b[0m eta \u001b[36m0:00:00\u001b[0m\n",
            "\u001b[?25hDownloading opentelemetry_semantic_conventions-0.55b1-py3-none-any.whl (196 kB)\n",
            "\u001b[2K   \u001b[90m━━━━━━━━━━━━━━━━━━━━━━━━━━━━━━━━━━━━━━━━\u001b[0m \u001b[32m196.2/196.2 kB\u001b[0m \u001b[31m14.1 MB/s\u001b[0m eta \u001b[36m0:00:00\u001b[0m\n",
            "\u001b[?25hInstalling collected packages: gunicorn, graphql-core, opentelemetry-api, graphql-relay, docker, alembic, opentelemetry-semantic-conventions, graphene, databricks-sdk, opentelemetry-sdk, mlflow-skinny, mlflow\n",
            "Successfully installed alembic-1.16.2 databricks-sdk-0.57.0 docker-7.1.0 graphene-3.4.3 graphql-core-3.2.6 graphql-relay-3.2.0 gunicorn-23.0.0 mlflow-3.1.0 mlflow-skinny-3.1.0 opentelemetry-api-1.34.1 opentelemetry-sdk-1.34.1 opentelemetry-semantic-conventions-0.55b1\n"
          ]
        }
      ]
    },
    {
      "cell_type": "code",
      "source": [
        "\n",
        "import mlflow\n",
        "import mlflow.sklearn\n",
        "\n",
        "# Set MLflow tracking URI to local directory\n",
        "mlflow.set_tracking_uri(\"file:///content/mlruns\")\n",
        "mlflow.set_experiment(\"HDB_Resale_Price_Prediction\")"
      ],
      "metadata": {
        "colab": {
          "base_uri": "https://localhost:8080/"
        },
        "id": "zignM0Ywt1_e",
        "outputId": "16e62b06-0c03-46de-febc-1a60511fdd67"
      },
      "execution_count": null,
      "outputs": [
        {
          "output_type": "stream",
          "name": "stderr",
          "text": [
            "2025/06/18 01:47:29 INFO mlflow.tracking.fluent: Experiment with name 'HDB_Resale_Price_Prediction' does not exist. Creating a new experiment.\n"
          ]
        },
        {
          "output_type": "execute_result",
          "data": {
            "text/plain": [
              "<Experiment: artifact_location='file:///content/mlruns/902054813600086042', creation_time=1750211249290, experiment_id='902054813600086042', last_update_time=1750211249290, lifecycle_stage='active', name='HDB_Resale_Price_Prediction', tags={}>"
            ]
          },
          "metadata": {},
          "execution_count": 14
        }
      ]
    },
    {
      "cell_type": "code",
      "source": [
        "import numpy as np\n",
        "import xgboost as xgb\n",
        "import matplotlib.pyplot as plt\n",
        "from sklearn.model_selection import train_test_split\n",
        "from sklearn.metrics import mean_absolute_error, mean_squared_error\n"
      ],
      "metadata": {
        "id": "J-NETg68swEj"
      },
      "execution_count": null,
      "outputs": []
    },
    {
      "cell_type": "code",
      "source": [
        "df = raw_data.copy()"
      ],
      "metadata": {
        "id": "qmZdp2oFswCO"
      },
      "execution_count": null,
      "outputs": []
    },
    {
      "cell_type": "code",
      "source": [
        "# Convert 'month' column to datetime format\n",
        "df['month'] = pd.to_datetime(df['month'], format='%Y-%m')\n",
        "\n",
        "# Extract year and month as separate features\n",
        "df['year'] = df['month'].dt.year\n",
        "df['month_num'] = df['month'].dt.month\n",
        "\n",
        "# Sort the dataset by time\n",
        "df = df.sort_values(by=['month'])\n",
        "\n",
        "# Drop 'street_name' column since it's not needed\n",
        "df = df.drop(columns=['street_name'])\n",
        "\n",
        "# Ensure 'block' is treated as a numerical column\n",
        "df['block'] = pd.to_numeric(df['block'], errors='coerce')\n",
        "\n",
        "# Create a lag feature: previous month's average resale price for each flat type\n",
        "df['prev_month_resale_price'] = df.groupby(['flat_type'])['resale_price'].shift(1)\n",
        "\n",
        "# Fill missing values in lag features using the latest available value per flat type\n",
        "df['prev_month_resale_price'] = df.groupby(['flat_type'])['prev_month_resale_price'].ffill()\n",
        "\n",
        "# Drop rows where we still have missing values after forward fill (i.e., first month’s data)\n",
        "df = df.dropna(subset=['prev_month_resale_price'])\n",
        "\n",
        "# Drop original 'month' column (since we've extracted numerical features)\n",
        "df = df.drop(columns=['month'])\n",
        "\n",
        "# Ensure data is sorted by date\n",
        "df = df.sort_values(by=[\"year\", \"month_num\"])\n",
        "\n",
        "# Save previous month's average resale prices for use in Streamlit\n",
        "prev_prices = df.groupby(['flat_type', 'year', 'month_num'])['resale_price'].mean().reset_index()\n",
        "prev_prices.rename(columns={'resale_price': 'prev_month_resale_price'}, inplace=True)\n",
        "prev_prices.to_csv(\"prev_prices.csv\", index=False)\n",
        "print(\"Saved previous resale prices successfully!\")\n",
        "\n",
        "# Define cutoff for training (end of 2022)\n",
        "train_cutoff = (2022, 12)\n",
        "\n",
        "# Training set: Data before Jan 2023\n",
        "train_data = df[(df[\"year\"] < train_cutoff[0]) | ((df[\"year\"] == train_cutoff[0]) & (df[\"month_num\"] <= train_cutoff[1]))]\n",
        "\n",
        "# Test set: Data from Jan 2023 onward\n",
        "test_data = df[(df[\"year\"] > train_cutoff[0]) | ((df[\"year\"] == train_cutoff[0]) & (df[\"month_num\"] > train_cutoff[1]))]\n",
        "\n",
        "# Define X and y\n",
        "X_train, y_train = train_data.drop(columns=[\"resale_price\"]), train_data[\"resale_price\"]\n",
        "X_test, y_test = test_data.drop(columns=[\"resale_price\"]), test_data[\"resale_price\"]\n",
        "\n",
        "# Convert data to DMatrix (for better XGBoost efficiency)\n",
        "dtrain = xgb.DMatrix(X_train, label=y_train)\n",
        "dtest = xgb.DMatrix(X_test, label=y_test)\n",
        "\n",
        "with mlflow.start_run():\n",
        "    mlflow.log_param(\"model_type\", \"XGBoost\")\n",
        "    mlflow.log_param(\"feature_columns\", list(X_train.columns))\n",
        "    mlflow.log_param(\"target_column\", y_train.name)\n",
        "\n",
        "    # Specify XGBoost parameters\n",
        "    params = {\n",
        "        \"objective\": \"reg:squarederror\",\n",
        "        \"learning_rate\": 0.05,\n",
        "        \"max_depth\": 6,\n",
        "        \"subsample\": 0.8,\n",
        "        \"colsample_bytree\": 0.8,\n",
        "        \"eval_metric\": [\"mae\", \"rmse\"]\n",
        "    }\n",
        "\n",
        "    # Train XGBoost model with evaluation log\n",
        "    evals = [(dtrain, \"train\"), (dtest, \"test\")]\n",
        "    evals_result = {}\n",
        "\n",
        "    xgb_model = xgb.train(\n",
        "        params=params,\n",
        "        dtrain=dtrain,\n",
        "        num_boost_round=650,\n",
        "        evals=evals,\n",
        "        early_stopping_rounds=50,\n",
        "        verbose_eval=10,\n",
        "        evals_result=evals_result\n",
        "    )\n",
        "\n",
        "    # Extract MAE and RMSE values from evals_result\n",
        "    train_mae = evals_result['train']['mae']\n",
        "    test_mae = evals_result['test']['mae']\n",
        "    train_rmse = evals_result['train']['rmse']\n",
        "    test_rmse = evals_result['test']['rmse']\n",
        "\n",
        "    # Make predictions\n",
        "    y_pred = xgb_model.predict(dtest)\n",
        "\n",
        "    # Evaluate model performance\n",
        "    mae = mean_absolute_error(y_test, y_pred)\n",
        "    rmse = np.sqrt(mean_squared_error(y_test, y_pred))\n",
        "    mape = np.mean(np.abs((y_test - y_pred) / y_test)) * 100  # Mean Absolute Percentage Error\n",
        "\n",
        "    print(f\"Mean Absolute Error (MAE): {mae}\")\n",
        "    print(f\"Root Mean Squared Error (RMSE): {rmse}\")\n",
        "    print(f\"Mean Absolute Percentage Error (MAPE): {mape:.2f}%\")\n",
        "\n",
        "    # === Add PICP and MPIW calculation ===\n",
        "    residuals = y_test - y_pred\n",
        "    residual_std = residuals.std()\n",
        "\n",
        "    z = 1.96  # for 95% confidence interval\n",
        "    interval_width = 2 * z * residual_std\n",
        "\n",
        "    lower_bounds = y_pred - interval_width / 2\n",
        "    upper_bounds = y_pred + interval_width / 2\n",
        "\n",
        "    picp = ((y_test >= lower_bounds) & (y_test <= upper_bounds)).mean()\n",
        "    mpiw = np.mean(upper_bounds - lower_bounds)\n",
        "\n",
        "    print(f\"PICP (95% CI): {picp:.3f}\")\n",
        "    print(f\"MPIW (95% CI): ${mpiw:,.2f}\")\n",
        "\n",
        "    # === Log metrics and model to MLflow ===\n",
        "    mlflow.log_metric(\"MAE\", mae)\n",
        "    mlflow.log_metric(\"RMSE\", rmse)\n",
        "    mlflow.log_metric(\"MAPE\", mape)\n",
        "    mlflow.log_metric(\"PICP_95\", picp)\n",
        "    mlflow.log_metric(\"MPIW_95\", mpiw)\n",
        "    mlflow.xgboost.log_model(xgb_model, \"HDB_Resale_Model\")\n",
        "\n",
        "\n",
        "# Plot training vs. test MAE\n",
        "plt.figure(figsize=(10, 5))\n",
        "plt.plot(train_mae, label=\"Train MAE\")\n",
        "plt.plot(test_mae, label=\"Test MAE\", linestyle=\"dashed\")\n",
        "plt.xlabel(\"Boosting Rounds\")\n",
        "plt.ylabel(\"Mean Absolute Error (MAE)\")\n",
        "plt.title(\"Training vs. Test Loss (MAE) - XGBoost\")\n",
        "plt.legend()\n",
        "plt.grid(True)\n",
        "plt.show()\n",
        "\n",
        "# Plot training vs. test RMSE\n",
        "plt.figure(figsize=(10, 5))\n",
        "plt.plot(train_rmse, label=\"Train RMSE\", color=\"blue\")\n",
        "plt.plot(test_rmse, label=\"Test RMSE\", linestyle=\"dashed\", color=\"red\")\n",
        "plt.xlabel(\"Boosting Rounds\")\n",
        "plt.ylabel(\"Root Mean Squared Error (RMSE)\")\n",
        "plt.title(\"Training vs. Test Loss (RMSE) - XGBoost\")\n",
        "plt.legend()\n",
        "plt.grid(True)\n",
        "plt.show()\n"
      ],
      "metadata": {
        "colab": {
          "base_uri": "https://localhost:8080/",
          "height": 1000
        },
        "id": "rN1Et-rZsv_1",
        "outputId": "3f8e7daa-5878-43d7-99e5-cb3dffb3a436"
      },
      "execution_count": null,
      "outputs": [
        {
          "output_type": "stream",
          "name": "stdout",
          "text": [
            "Saved previous resale prices successfully!\n",
            "[0]\ttrain-mae:119582.72144\ttrain-rmse:153963.86448\ttest-mae:159463.58551\ttest-rmse:214303.24241\n",
            "[10]\ttrain-mae:83311.07253\ttrain-rmse:109299.71456\ttest-mae:116672.76554\ttest-rmse:162449.14784\n",
            "[20]\ttrain-mae:61362.70674\ttrain-rmse:83589.93634\ttest-mae:88852.42749\ttest-rmse:129748.37788\n",
            "[30]\ttrain-mae:48838.47911\ttrain-rmse:69727.81887\ttest-mae:72205.33434\ttest-rmse:110102.06521\n",
            "[40]\ttrain-mae:41557.05823\ttrain-rmse:62031.47738\ttest-mae:62895.52867\ttest-rmse:98413.79987\n",
            "[50]\ttrain-mae:37216.75451\ttrain-rmse:57139.92359\ttest-mae:57767.57877\ttest-rmse:91045.37859\n",
            "[60]\ttrain-mae:34437.86825\ttrain-rmse:53973.87172\ttest-mae:54137.31133\ttest-rmse:86003.38068\n",
            "[70]\ttrain-mae:32603.58868\ttrain-rmse:51684.07602\ttest-mae:51049.16463\ttest-rmse:81737.87865\n",
            "[80]\ttrain-mae:31261.60863\ttrain-rmse:49725.77097\ttest-mae:49425.73773\ttest-rmse:79025.91306\n",
            "[90]\ttrain-mae:30193.70336\ttrain-rmse:48241.86882\ttest-mae:48420.66830\ttest-rmse:77237.49824\n",
            "[100]\ttrain-mae:29355.82250\ttrain-rmse:46949.93135\ttest-mae:47505.67452\ttest-rmse:75477.57107\n",
            "[110]\ttrain-mae:28627.28292\ttrain-rmse:45770.18260\ttest-mae:46576.05503\ttest-rmse:73828.17388\n",
            "[120]\ttrain-mae:28002.16544\ttrain-rmse:44773.29535\ttest-mae:46153.18258\ttest-rmse:72787.70317\n",
            "[130]\ttrain-mae:27403.02325\ttrain-rmse:43796.88232\ttest-mae:45540.50294\ttest-rmse:71774.68527\n",
            "[140]\ttrain-mae:26969.30680\ttrain-rmse:43017.66203\ttest-mae:45421.17411\ttest-rmse:71262.92122\n",
            "[150]\ttrain-mae:26538.82242\ttrain-rmse:42152.88749\ttest-mae:44995.93217\ttest-rmse:70467.23128\n",
            "[160]\ttrain-mae:26129.89720\ttrain-rmse:41375.00986\ttest-mae:44697.22001\ttest-rmse:69844.99971\n",
            "[170]\ttrain-mae:25735.60361\ttrain-rmse:40620.83826\ttest-mae:44425.33626\ttest-rmse:69225.65653\n",
            "[180]\ttrain-mae:25370.46524\ttrain-rmse:39858.38241\ttest-mae:44366.70680\ttest-rmse:68858.81140\n",
            "[190]\ttrain-mae:25109.45137\ttrain-rmse:39282.31098\ttest-mae:44267.09584\ttest-rmse:68529.70317\n",
            "[200]\ttrain-mae:24757.10881\ttrain-rmse:38620.50217\ttest-mae:44207.56693\ttest-rmse:68146.66377\n",
            "[210]\ttrain-mae:24484.65757\ttrain-rmse:38093.44010\ttest-mae:44213.56093\ttest-rmse:67980.05551\n",
            "[220]\ttrain-mae:24240.44204\ttrain-rmse:37578.91897\ttest-mae:44240.51045\ttest-rmse:67760.05162\n",
            "[230]\ttrain-mae:23999.45239\ttrain-rmse:37121.70664\ttest-mae:44182.89163\ttest-rmse:67459.98635\n",
            "[240]\ttrain-mae:23813.61823\ttrain-rmse:36685.19385\ttest-mae:44152.16223\ttest-rmse:67268.98312\n",
            "[250]\ttrain-mae:23583.03436\ttrain-rmse:36234.75126\ttest-mae:44060.47504\ttest-rmse:66964.34156\n",
            "[260]\ttrain-mae:23411.62797\ttrain-rmse:35863.83933\ttest-mae:44202.25565\ttest-rmse:66921.43598\n",
            "[270]\ttrain-mae:23259.52973\ttrain-rmse:35562.84914\ttest-mae:44082.31839\ttest-rmse:66631.63387\n",
            "[280]\ttrain-mae:23057.00678\ttrain-rmse:35202.01541\ttest-mae:44045.73396\ttest-rmse:66413.72234\n",
            "[290]\ttrain-mae:22857.15146\ttrain-rmse:34821.14883\ttest-mae:44132.17280\ttest-rmse:66303.44973\n",
            "[300]\ttrain-mae:22691.40338\ttrain-rmse:34485.72419\ttest-mae:44178.31457\ttest-rmse:66220.01552\n",
            "[310]\ttrain-mae:22551.30392\ttrain-rmse:34226.33634\ttest-mae:44287.57266\ttest-rmse:66200.32832\n",
            "[320]\ttrain-mae:22404.30461\ttrain-rmse:33951.45890\ttest-mae:44205.70819\ttest-rmse:65998.75914\n",
            "[330]\ttrain-mae:22241.68757\ttrain-rmse:33632.68155\ttest-mae:44319.91825\ttest-rmse:65948.93256\n",
            "[340]\ttrain-mae:22114.19670\ttrain-rmse:33368.95350\ttest-mae:44341.40456\ttest-rmse:65831.40556\n",
            "[350]\ttrain-mae:21977.97815\ttrain-rmse:33126.33156\ttest-mae:44279.89494\ttest-rmse:65641.41824\n",
            "[360]\ttrain-mae:21837.58992\ttrain-rmse:32835.88782\ttest-mae:44444.27314\ttest-rmse:65657.66667\n",
            "[370]\ttrain-mae:21712.99285\ttrain-rmse:32603.89405\ttest-mae:44534.32140\ttest-rmse:65646.29891\n",
            "[380]\ttrain-mae:21571.60015\ttrain-rmse:32364.14826\ttest-mae:44498.59745\ttest-rmse:65511.88964\n",
            "[390]\ttrain-mae:21428.72030\ttrain-rmse:32106.75138\ttest-mae:44596.99614\ttest-rmse:65503.05091\n",
            "[400]\ttrain-mae:21304.08234\ttrain-rmse:31878.82921\ttest-mae:44647.66846\ttest-rmse:65447.01850\n",
            "[410]\ttrain-mae:21197.84552\ttrain-rmse:31673.10976\ttest-mae:44717.86829\ttest-rmse:65433.94291\n",
            "[420]\ttrain-mae:21074.07171\ttrain-rmse:31438.71641\ttest-mae:44722.11014\ttest-rmse:65312.42038\n",
            "[430]\ttrain-mae:20962.22669\ttrain-rmse:31243.17447\ttest-mae:44652.69768\ttest-rmse:65160.43335\n",
            "[440]\ttrain-mae:20873.77235\ttrain-rmse:31086.74213\ttest-mae:44689.39950\ttest-rmse:65114.71847\n",
            "[450]\ttrain-mae:20762.84384\ttrain-rmse:30871.99071\ttest-mae:44761.07170\ttest-rmse:65065.96184\n",
            "[460]\ttrain-mae:20670.06939\ttrain-rmse:30713.59654\ttest-mae:44851.04630\ttest-rmse:65086.53435\n",
            "[470]\ttrain-mae:20571.64407\ttrain-rmse:30519.02126\ttest-mae:44863.41536\ttest-rmse:65012.77687\n",
            "[480]\ttrain-mae:20456.07681\ttrain-rmse:30336.55477\ttest-mae:44878.89386\ttest-rmse:64938.77799\n",
            "[490]\ttrain-mae:20364.39477\ttrain-rmse:30162.11032\ttest-mae:44986.38723\ttest-rmse:64978.20415\n",
            "[500]\ttrain-mae:20277.61535\ttrain-rmse:30012.21172\ttest-mae:45035.25480\ttest-rmse:64951.56665\n",
            "[510]\ttrain-mae:20202.97916\ttrain-rmse:29865.68931\ttest-mae:45080.23205\ttest-rmse:64903.41866\n",
            "[520]\ttrain-mae:20108.94369\ttrain-rmse:29706.46992\ttest-mae:45073.33733\ttest-rmse:64820.91463\n",
            "[530]\ttrain-mae:20024.52050\ttrain-rmse:29554.23632\ttest-mae:45125.80098\ttest-rmse:64795.75419\n",
            "[540]\ttrain-mae:19929.72657\ttrain-rmse:29407.62654\ttest-mae:45130.69796\ttest-rmse:64732.89176\n",
            "[550]\ttrain-mae:19847.98820\ttrain-rmse:29264.79559\ttest-mae:45252.46986\ttest-rmse:64768.46523\n",
            "[560]\ttrain-mae:19759.35473\ttrain-rmse:29094.90185\ttest-mae:45287.50042\ttest-rmse:64747.14713\n",
            "[570]\ttrain-mae:19673.08389\ttrain-rmse:28946.95318\ttest-mae:45285.86717\ttest-rmse:64716.87070\n",
            "[580]\ttrain-mae:19580.29205\ttrain-rmse:28786.81783\ttest-mae:45386.38341\ttest-rmse:64725.59389\n",
            "[590]\ttrain-mae:19508.81806\ttrain-rmse:28657.59783\ttest-mae:45432.91053\ttest-rmse:64720.82273\n",
            "[600]\ttrain-mae:19440.12570\ttrain-rmse:28537.43035\ttest-mae:45412.63023\ttest-rmse:64660.00532\n",
            "[610]\ttrain-mae:19368.11501\ttrain-rmse:28410.21467\ttest-mae:45450.98214\ttest-rmse:64637.98544\n",
            "[620]\ttrain-mae:19288.18996\ttrain-rmse:28270.87276\ttest-mae:45452.39504\ttest-rmse:64577.90595\n",
            "[630]\ttrain-mae:19224.27173\ttrain-rmse:28157.32837\ttest-mae:45469.34351\ttest-rmse:64539.86042\n",
            "[640]\ttrain-mae:19160.54763\ttrain-rmse:28054.15680\ttest-mae:45470.46532\ttest-rmse:64490.10058\n",
            "[649]\ttrain-mae:19090.86783\ttrain-rmse:27926.03268\ttest-mae:45508.49765\ttest-rmse:64478.84795\n"
          ]
        },
        {
          "output_type": "stream",
          "name": "stderr",
          "text": [
            "2025/06/18 01:50:48 WARNING mlflow.models.model: `artifact_path` is deprecated. Please use `name` instead.\n"
          ]
        },
        {
          "output_type": "stream",
          "name": "stdout",
          "text": [
            "Mean Absolute Error (MAE): 45508.49764825093\n",
            "Root Mean Squared Error (RMSE): 64478.84795278273\n",
            "Mean Absolute Percentage Error (MAPE): 7.16%\n",
            "PICP (95% CI): 0.890\n",
            "MPIW (95% CI): $196,237.75\n"
          ]
        },
        {
          "output_type": "stream",
          "name": "stderr",
          "text": [
            "/usr/local/lib/python3.11/dist-packages/xgboost/core.py:158: UserWarning: [01:50:48] WARNING: /workspace/src/c_api/c_api.cc:1374: Saving model in the UBJSON format as default.  You can use file extension: `json`, `ubj` or `deprecated` to choose between formats.\n",
            "  warnings.warn(smsg, UserWarning)\n",
            "\u001b[31m2025/06/18 01:50:55 WARNING mlflow.models.model: Model logged without a signature and input example. Please set `input_example` parameter when logging the model to auto infer the model signature.\u001b[0m\n"
          ]
        },
        {
          "output_type": "display_data",
          "data": {
            "text/plain": [
              "<Figure size 1000x500 with 1 Axes>"
            ],
            "image/png": "[encoded data removed]"
          },
          "metadata": {}
        },
        {
          "output_type": "display_data",
          "data": {
            "text/plain": [
              "<Figure size 1000x500 with 1 Axes>"
            ],
            "image/png": "[encoded data removed]"
          },
          "metadata": {}
        }
      ]
    },
    {
      "cell_type": "code",
      "source": [
        "print(\"First date in training set:\", df.iloc[:len(X_train)]['year'].min(), df.iloc[:len(X_train)]['month_num'].min())\n",
        "print(\"Last date in training set:\", df.iloc[:len(X_train)]['year'].max(), df.iloc[:len(X_train)]['month_num'].max())\n",
        "\n",
        "print(\"First date in test set:\", df.iloc[len(X_train):]['year'].min(), df.iloc[len(X_train):]['month_num'].min())\n",
        "print(\"Last date in test set:\", df.iloc[len(X_train):]['year'].max(), df.iloc[len(X_train):]['month_num'].max())\n"
      ],
      "metadata": {
        "colab": {
          "base_uri": "https://localhost:8080/"
        },
        "id": "P4YQDCCQsy2S",
        "outputId": "565752b3-0a72-4dc8-d9ad-b2bc03293795"
      },
      "execution_count": null,
      "outputs": [
        {
          "output_type": "stream",
          "name": "stdout",
          "text": [
            "First date in training set: 2015 1\n",
            "Last date in training set: 2022 12\n",
            "First date in test set: 2023 1\n",
            "Last date in test set: 2025 12\n"
          ]
        }
      ]
    },
    {
      "cell_type": "code",
      "source": [
        "# Make predictions\n",
        "y_pred = xgb_model.predict(dtest)\n",
        "\n",
        "# Evaluate model performance\n",
        "mae = mean_absolute_error(y_test, y_pred)\n",
        "rmse = np.sqrt(mean_squared_error(y_test, y_pred))\n",
        "mape = np.mean(np.abs((y_test - y_pred) / y_test)) * 100  # Mean Absolute Percentage Error\n",
        "\n",
        "# Compute PICP and MPIW\n",
        "residuals = y_test - y_pred\n",
        "residual_std = residuals.std()\n",
        "z = 1.96  # for 95% confidence interval\n",
        "\n",
        "interval_width = 2 * z * residual_std\n",
        "lower_bounds = y_pred - interval_width / 2\n",
        "upper_bounds = y_pred + interval_width / 2\n",
        "\n",
        "picp = ((y_test >= lower_bounds) & (y_test <= upper_bounds)).mean()\n",
        "mpiw = np.mean(upper_bounds - lower_bounds)\n",
        "\n",
        "# Print evaluation metrics\n",
        "print(f\"Mean Absolute Error (MAE): {mae}\")\n",
        "print(f\"Root Mean Squared Error (RMSE): {rmse}\")\n",
        "print(f\"Mean Absolute Percentage Error (MAPE): {mape:.2f}%\")\n",
        "print(f\"Prediction Interval Coverage Probability (PICP 95%): {picp:.3f}\")\n",
        "print(f\"Mean Prediction Interval Width (MPIW 95%): ${mpiw:,.2f}\")\n",
        "\n",
        "# Save the model\n",
        "xgb_model.save_model(\"hdb_xgboost_model.model\")  # Save as binary model\n",
        "print(\"Model saved as hdb_xgboost_model.model\")\n",
        "\n",
        "xgb_model.save_model(\"/content/drive/My Drive/hdb_xgboost_model_MAPE_test.json\")  # Save in Google Drive\n",
        "print(\"Model also saved in Google Drive\")\n"
      ],
      "metadata": {
        "colab": {
          "base_uri": "https://localhost:8080/"
        },
        "id": "0m90J7iesy0G",
        "outputId": "8601c452-fdf5-4fde-9f89-d47ebd9a3e82"
      },
      "execution_count": null,
      "outputs": [
        {
          "output_type": "stream",
          "name": "stdout",
          "text": [
            "Mean Absolute Error (MAE): 45508.49764825093\n",
            "Root Mean Squared Error (RMSE): 64478.84795278273\n",
            "Mean Absolute Percentage Error (MAPE): 7.16%\n",
            "Prediction Interval Coverage Probability (PICP 95%): 0.890\n",
            "Mean Prediction Interval Width (MPIW 95%): $196,237.75\n",
            "Model saved as hdb_xgboost_model.model\n"
          ]
        },
        {
          "output_type": "stream",
          "name": "stderr",
          "text": [
            "/usr/local/lib/python3.11/dist-packages/xgboost/core.py:158: UserWarning: [01:51:15] WARNING: /workspace/src/c_api/c_api.cc:1374: Saving model in the UBJSON format as default.  You can use file extension: `json`, `ubj` or `deprecated` to choose between formats.\n",
            "  warnings.warn(smsg, UserWarning)\n"
          ]
        },
        {
          "output_type": "stream",
          "name": "stdout",
          "text": [
            "Model also saved in Google Drive\n"
          ]
        }
      ]
    },
    {
      "cell_type": "code",
      "source": [],
      "metadata": {
        "id": "4yILmAPhsv9W"
      },
      "execution_count": null,
      "outputs": []
    }
  ]
}