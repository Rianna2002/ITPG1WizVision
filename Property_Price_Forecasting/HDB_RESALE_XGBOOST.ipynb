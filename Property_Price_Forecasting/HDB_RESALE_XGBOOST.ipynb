{
  "nbformat": 4,
  "nbformat_minor": 0,
  "metadata": {
    "colab": {
      "provenance": []
    },
    "kernelspec": {
      "name": "python3",
      "display_name": "Python 3"
    },
    "language_info": {
      "name": "python"
    }
  },
  "cells": [
    {
      "cell_type": "code",
      "source": [],
      "metadata": {
        "id": "1iZjJKzMkqzL"
      },
      "execution_count": null,
      "outputs": []
    },
    {
      "cell_type": "code",
      "execution_count": null,
      "metadata": {
        "colab": {
          "base_uri": "https://localhost:8080/"
        },
        "id": "I8xeniVrtICg",
        "outputId": "78c515f6-8fc0-401c-95a4-e5d0d787d162"
      },
      "outputs": [
        {
          "output_type": "stream",
          "name": "stdout",
          "text": [
            "Mounted at /content/drive\n"
          ]
        }
      ],
      "source": [
        "from google.colab import drive\n",
        "drive.mount('/content/drive')"
      ]
    },
    {
      "cell_type": "code",
      "source": [
        "import pandas as pd\n",
        "\n",
        "file_path = '/content/drive/My Drive/modified_flat_model.csv'\n",
        "raw_data = pd.read_csv(file_path)"
      ],
      "metadata": {
        "id": "lsWPqDE3tOK_"
      },
      "execution_count": null,
      "outputs": []
    },
    {
      "cell_type": "code",
      "source": [
        "print(raw_data.head())"
      ],
      "metadata": {
        "colab": {
          "base_uri": "https://localhost:8080/"
        },
        "id": "WLe1ALrktOIe",
        "outputId": "f447ba3c-61aa-4886-d43b-3cf69a648a21"
      },
      "execution_count": null,
      "outputs": [
        {
          "output_type": "stream",
          "name": "stdout",
          "text": [
            "     month        town flat_type block        street_name storey_range  \\\n",
            "0  2015-01  ANG MO KIO    3 ROOM   174   ANG MO KIO AVE 4     07 TO 09   \n",
            "1  2015-01  ANG MO KIO    3 ROOM   541  ANG MO KIO AVE 10     01 TO 03   \n",
            "2  2015-01  ANG MO KIO    3 ROOM   163   ANG MO KIO AVE 4     01 TO 03   \n",
            "3  2015-01  ANG MO KIO    3 ROOM   446  ANG MO KIO AVE 10     01 TO 03   \n",
            "4  2015-01  ANG MO KIO    3 ROOM   557  ANG MO KIO AVE 10     07 TO 09   \n",
            "\n",
            "   floor_area_sqm      flat_model  lease_commence_date  resale_price  \\\n",
            "0            60.0        IMPROVED                 1986      255000.0   \n",
            "1            68.0  NEW GENERATION                 1981      275000.0   \n",
            "2            69.0  NEW GENERATION                 1980      285000.0   \n",
            "3            68.0  NEW GENERATION                 1979      290000.0   \n",
            "4            68.0  NEW GENERATION                 1980      290000.0   \n",
            "\n",
            "   remaining_lease  \n",
            "0              840  \n",
            "1              780  \n",
            "2              768  \n",
            "3              756  \n",
            "4              768  \n"
          ]
        }
      ]
    },
    {
      "cell_type": "code",
      "source": [
        "categorical_columns = [\"town\", \"flat_type\", \"storey_range\", \"flat_model\"]\n",
        "\n",
        "# Print unique categories and their count\n",
        "for col in categorical_columns:\n",
        "    unique_values = raw_data[col].unique()\n",
        "    print(f\"Column: {col}\")\n",
        "    print(f\"Number of unique categories: {len(unique_values)}\")\n",
        "    print(\"Categories:\", unique_values)\n",
        "    print(\"-\" * 50)"
      ],
      "metadata": {
        "id": "tKn_mo8HtOFz",
        "colab": {
          "base_uri": "https://localhost:8080/"
        },
        "outputId": "93feb345-7e48-4424-daa4-7c220c28aa29"
      },
      "execution_count": null,
      "outputs": [
        {
          "output_type": "stream",
          "name": "stdout",
          "text": [
            "Column: town\n",
            "Number of unique categories: 26\n",
            "Categories: ['ANG MO KIO' 'BEDOK' 'BISHAN' 'BUKIT BATOK' 'BUKIT MERAH' 'BUKIT PANJANG'\n",
            " 'BUKIT TIMAH' 'CENTRAL AREA' 'CHOA CHU KANG' 'CLEMENTI' 'GEYLANG'\n",
            " 'HOUGANG' 'JURONG EAST' 'JURONG WEST' 'KALLANG/WHAMPOA' 'MARINE PARADE'\n",
            " 'PASIR RIS' 'PUNGGOL' 'QUEENSTOWN' 'SEMBAWANG' 'SENGKANG' 'SERANGOON'\n",
            " 'TAMPINES' 'TOA PAYOH' 'WOODLANDS' 'YISHUN']\n",
            "--------------------------------------------------\n",
            "Column: flat_type\n",
            "Number of unique categories: 7\n",
            "Categories: ['3 ROOM' '4 ROOM' '5 ROOM' '2 ROOM' 'EXECUTIVE' '1 ROOM'\n",
            " 'MULTI-GENERATION']\n",
            "--------------------------------------------------\n",
            "Column: storey_range\n",
            "Number of unique categories: 17\n",
            "Categories: ['07 TO 09' '01 TO 03' '13 TO 15' '10 TO 12' '04 TO 06' '19 TO 21'\n",
            " '16 TO 18' '22 TO 24' '25 TO 27' '28 TO 30' '34 TO 36' '46 TO 48'\n",
            " '31 TO 33' '37 TO 39' '43 TO 45' '40 TO 42' '49 TO 51']\n",
            "--------------------------------------------------\n",
            "Column: flat_model\n",
            "Number of unique categories: 21\n",
            "Categories: ['IMPROVED' 'NEW GENERATION' 'MODEL A' 'STANDARD' 'SIMPLIFIED'\n",
            " 'PREMIUM APARTMENT' 'MAISONETTE' 'APARTMENT' 'MODEL A2' 'TYPE S1'\n",
            " 'TYPE S2' 'ADJOINED FLAT' 'TERRACE' 'DBSS' 'MODEL A-MAISONETTE'\n",
            " 'PREMIUM MAISONETTE' 'MULTI GENERATION' 'PREMIUM APARTMENT LOFT'\n",
            " 'IMPROVED-MAISONETTE' '2-ROOM' '3GEN']\n",
            "--------------------------------------------------\n"
          ]
        }
      ]
    },
    {
      "cell_type": "code",
      "source": [
        "town_order = [\n",
        "    'ANG MO KIO', 'BEDOK', 'BISHAN', 'BUKIT BATOK', 'BUKIT MERAH', 'BUKIT PANJANG',\n",
        "    'BUKIT TIMAH', 'CENTRAL AREA', 'CHOA CHU KANG', 'CLEMENTI', 'GEYLANG',\n",
        "    'HOUGANG', 'JURONG EAST', 'JURONG WEST', 'KALLANG/WHAMPOA', 'MARINE PARADE',\n",
        "    'PASIR RIS', 'PUNGGOL', 'QUEENSTOWN', 'SEMBAWANG', 'SENGKANG', 'SERANGOON',\n",
        "    'TAMPINES', 'TOA PAYOH', 'WOODLANDS', 'YISHUN'\n",
        "]\n",
        "\n",
        "flat_type_order = ['1 ROOM', '2 ROOM', '3 ROOM', '4 ROOM', '5 ROOM', 'MULTI-GENERATION', 'EXECUTIVE']\n",
        "\n",
        "storey_range_order = [\n",
        "    '01 TO 03', '04 TO 06', '07 TO 09', '10 TO 12', '13 TO 15', '16 TO 18', '19 TO 21',\n",
        "    '22 TO 24', '25 TO 27', '28 TO 30', '31 TO 33', '34 TO 36', '37 TO 39', '40 TO 42',\n",
        "    '43 TO 45', '46 TO 48', '49 TO 51'\n",
        "]\n",
        "\n",
        "flat_model_order = [\n",
        "    'IMPROVED', 'NEW GENERATION', 'MODEL A', 'STANDARD', 'SIMPLIFIED',\n",
        "    'PREMIUM APARTMENT', 'MAISONETTE', 'APARTMENT', 'MODEL A2', 'TYPE S1',\n",
        "    'TYPE S2', 'ADJOINED FLAT', 'TERRACE', 'DBSS', 'MODEL A-MAISONETTE',\n",
        "    'PREMIUM MAISONETTE', 'MULTI GENERATION', 'PREMIUM APARTMENT LOFT',\n",
        "    'IMPROVED-MAISONETTE', '2-ROOM', '3GEN'\n",
        "]\n",
        "\n",
        "# One-hot encode 'town' and 'flat_model'\n",
        "raw_data = pd.get_dummies(raw_data, columns=['town', 'flat_model'], prefix=['town', 'flat_model'], dtype=int)\n",
        "\n",
        "# Label encode 'flat_type' and 'storey_range' based on specified order\n",
        "raw_data['flat_type'] = raw_data['flat_type'].map({val: idx for idx, val in enumerate(flat_type_order)})\n",
        "raw_data['storey_range'] = raw_data['storey_range'].map({val: idx for idx, val in enumerate(storey_range_order)})\n",
        "\n",
        "# Display first few rows to verify\n",
        "print(raw_data.head())\n"
      ],
      "metadata": {
        "id": "cmlhE80DtODZ",
        "colab": {
          "base_uri": "https://localhost:8080/"
        },
        "outputId": "2473dd21-99c1-4f79-9efe-86609a5c2ac7"
      },
      "execution_count": null,
      "outputs": [
        {
          "output_type": "stream",
          "name": "stdout",
          "text": [
            "     month  flat_type block        street_name  storey_range  floor_area_sqm  \\\n",
            "0  2015-01          2   174   ANG MO KIO AVE 4             2            60.0   \n",
            "1  2015-01          2   541  ANG MO KIO AVE 10             0            68.0   \n",
            "2  2015-01          2   163   ANG MO KIO AVE 4             0            69.0   \n",
            "3  2015-01          2   446  ANG MO KIO AVE 10             0            68.0   \n",
            "4  2015-01          2   557  ANG MO KIO AVE 10             2            68.0   \n",
            "\n",
            "   lease_commence_date  resale_price  remaining_lease  town_ANG MO KIO  ...  \\\n",
            "0                 1986      255000.0              840                1  ...   \n",
            "1                 1981      275000.0              780                1  ...   \n",
            "2                 1980      285000.0              768                1  ...   \n",
            "3                 1979      290000.0              756                1  ...   \n",
            "4                 1980      290000.0              768                1  ...   \n",
            "\n",
            "   flat_model_MULTI GENERATION  flat_model_NEW GENERATION  \\\n",
            "0                            0                          0   \n",
            "1                            0                          1   \n",
            "2                            0                          1   \n",
            "3                            0                          1   \n",
            "4                            0                          1   \n",
            "\n",
            "   flat_model_PREMIUM APARTMENT  flat_model_PREMIUM APARTMENT LOFT  \\\n",
            "0                             0                                  0   \n",
            "1                             0                                  0   \n",
            "2                             0                                  0   \n",
            "3                             0                                  0   \n",
            "4                             0                                  0   \n",
            "\n",
            "   flat_model_PREMIUM MAISONETTE  flat_model_SIMPLIFIED  flat_model_STANDARD  \\\n",
            "0                              0                      0                    0   \n",
            "1                              0                      0                    0   \n",
            "2                              0                      0                    0   \n",
            "3                              0                      0                    0   \n",
            "4                              0                      0                    0   \n",
            "\n",
            "   flat_model_TERRACE  flat_model_TYPE S1  flat_model_TYPE S2  \n",
            "0                   0                   0                   0  \n",
            "1                   0                   0                   0  \n",
            "2                   0                   0                   0  \n",
            "3                   0                   0                   0  \n",
            "4                   0                   0                   0  \n",
            "\n",
            "[5 rows x 56 columns]\n"
          ]
        }
      ]
    },
    {
      "cell_type": "code",
      "source": [
        "raw_data.to_csv(\"modified_flat_model_one_hot_encoded.csv\", index=False)"
      ],
      "metadata": {
        "id": "NCYRHUeqtOAw"
      },
      "execution_count": null,
      "outputs": []
    },
    {
      "cell_type": "code",
      "source": [
        "import numpy as np\n",
        "import xgboost as xgb\n",
        "import matplotlib.pyplot as plt\n",
        "from sklearn.model_selection import train_test_split\n",
        "from sklearn.metrics import mean_absolute_error"
      ],
      "metadata": {
        "id": "TGv2XG8KogqS"
      },
      "execution_count": null,
      "outputs": []
    },
    {
      "cell_type": "code",
      "source": [
        "df = raw_data.copy()"
      ],
      "metadata": {
        "id": "b096w5b9tN8L"
      },
      "execution_count": null,
      "outputs": []
    },
    {
      "cell_type": "code",
      "source": [
        "# Convert 'month' column to datetime format\n",
        "df['month'] = pd.to_datetime(df['month'], format='%Y-%m')\n",
        "\n",
        "# Extract year and month as separate features\n",
        "df['year'] = df['month'].dt.year\n",
        "df['month_num'] = df['month'].dt.month\n",
        "\n",
        "# Sort the dataset by time\n",
        "df = df.sort_values(by=['month'])\n",
        "\n",
        "# Drop 'street_name' column since it's not needed\n",
        "df = df.drop(columns=['street_name'])\n",
        "\n",
        "# Ensure 'block' is treated as a numerical column\n",
        "df['block'] = pd.to_numeric(df['block'], errors='coerce')  # Convert to numeric format\n",
        "\n",
        "# Create a lag feature: previous month's average resale price for each flat type\n",
        "df['prev_month_resale_price'] = df.groupby(['flat_type'])['resale_price'].shift(1)\n",
        "\n",
        "# Fill missing values in lag features using the latest available value per flat type\n",
        "df['prev_month_resale_price'] = df.groupby(['flat_type'])['prev_month_resale_price'].ffill()\n",
        "\n",
        "# Drop rows where we still have missing values after forward fill (i.e., first month’s data)\n",
        "df = df.dropna(subset=['prev_month_resale_price'])\n",
        "\n",
        "# Drop original 'month' column (since we've extracted numerical features)\n",
        "df = df.drop(columns=['month'])\n",
        "\n",
        "# Ensure data is sorted by date\n",
        "df = df.sort_values(by=[\"year\", \"month_num\"])\n",
        "\n",
        "# Save previous month's average resale prices for use in Streamlit\n",
        "prev_prices = df.groupby(['flat_type', 'year', 'month_num'])['resale_price'].mean().reset_index()\n",
        "prev_prices.rename(columns={'resale_price': 'prev_month_resale_price'}, inplace=True)\n",
        "prev_prices.to_csv(\"prev_prices.csv\", index=False)\n",
        "print(\"Saved previous resale prices successfully!\")\n",
        "\n",
        "# Define cutoff for training (end of 2022)\n",
        "train_cutoff = (2022, 12)\n",
        "\n",
        "# Training set: Data before Jan 2023\n",
        "train_data = df[(df[\"year\"] < train_cutoff[0]) | ((df[\"year\"] == train_cutoff[0]) & (df[\"month_num\"] <= train_cutoff[1]))]\n",
        "\n",
        "# Test set: Data from Jan 2023 onward\n",
        "test_data = df[(df[\"year\"] > train_cutoff[0]) | ((df[\"year\"] == train_cutoff[0]) & (df[\"month_num\"] > train_cutoff[1]))]\n",
        "\n",
        "# Define X and y\n",
        "X_train, y_train = train_data.drop(columns=[\"resale_price\"]), train_data[\"resale_price\"]\n",
        "X_test, y_test = test_data.drop(columns=[\"resale_price\"]), test_data[\"resale_price\"]\n",
        "\n",
        "# Convert data to DMatrix (for better XGBoost efficiency)\n",
        "dtrain = xgb.DMatrix(X_train, label=y_train)\n",
        "dtest = xgb.DMatrix(X_test, label=y_test)\n",
        "\n",
        "evals = [(dtrain, \"train\"), (dtest, \"test\")]\n",
        "\n",
        "# Specify XGBoost parameters\n",
        "params = {\n",
        "    \"objective\": \"reg:squarederror\",\n",
        "    \"learning_rate\": 0.05,\n",
        "    \"max_depth\": 6,\n",
        "    \"subsample\": 0.8,\n",
        "    \"colsample_bytree\": 0.8,\n",
        "    \"eval_metric\": \"mae\"  # Mean Absolute Error\n",
        "}\n",
        "\n",
        "# Train XGBoost model with evaluation log\n",
        "evals_result = {}  # Dictionary to store loss values\n",
        "\n",
        "xgb_model = xgb.train(\n",
        "    params=params,\n",
        "    dtrain=dtrain,\n",
        "    num_boost_round=650,\n",
        "    evals=evals,\n",
        "    early_stopping_rounds=50,\n",
        "    verbose_eval=10,\n",
        "    evals_result=evals_result  # Store training history\n",
        ")\n",
        "\n",
        "# Extract MAE values from evals_result\n",
        "train_mae = evals_result['train']['mae']\n",
        "test_mae = evals_result['test']['mae']\n",
        "\n",
        "# Plot training vs. test MAE\n",
        "plt.figure(figsize=(10, 5))\n",
        "plt.plot(train_mae, label=\"Train MAE\")\n",
        "plt.plot(test_mae, label=\"Test MAE\", linestyle=\"dashed\")\n",
        "plt.xlabel(\"Boosting Rounds\")\n",
        "plt.ylabel(\"Mean Absolute Error (MAE)\")\n",
        "plt.title(\"Training vs. Test Loss (MAE) - XGBoost\")\n",
        "plt.legend()\n",
        "plt.grid(True)\n",
        "plt.show()\n"
      ],
      "metadata": {
        "colab": {
          "base_uri": "https://localhost:8080/",
          "height": 1000
        },
        "id": "P3-R8dGSuM_V",
        "outputId": "c6937132-489a-4134-966a-4e37e068546b"
      },
      "execution_count": null,
      "outputs": [
        {
          "output_type": "stream",
          "name": "stdout",
          "text": [
            "Saved previous resale prices successfully!\n",
            "[0]\ttrain-mae:119582.72144\ttest-mae:159463.58551\n",
            "[10]\ttrain-mae:83311.07253\ttest-mae:116672.76554\n",
            "[20]\ttrain-mae:61362.70674\ttest-mae:88852.42749\n",
            "[30]\ttrain-mae:48838.47911\ttest-mae:72205.33434\n",
            "[40]\ttrain-mae:41557.05823\ttest-mae:62895.52867\n",
            "[50]\ttrain-mae:37216.75451\ttest-mae:57767.57877\n",
            "[60]\ttrain-mae:34437.86825\ttest-mae:54137.31133\n",
            "[70]\ttrain-mae:32603.58868\ttest-mae:51049.16463\n",
            "[80]\ttrain-mae:31261.60863\ttest-mae:49425.73773\n",
            "[90]\ttrain-mae:30193.70336\ttest-mae:48420.66830\n",
            "[100]\ttrain-mae:29355.82250\ttest-mae:47505.67452\n",
            "[110]\ttrain-mae:28627.28292\ttest-mae:46576.05503\n",
            "[120]\ttrain-mae:28002.16544\ttest-mae:46153.18258\n",
            "[130]\ttrain-mae:27403.02325\ttest-mae:45540.50294\n",
            "[140]\ttrain-mae:26969.30680\ttest-mae:45421.17411\n",
            "[150]\ttrain-mae:26538.82242\ttest-mae:44995.93217\n",
            "[160]\ttrain-mae:26129.89720\ttest-mae:44697.22001\n",
            "[170]\ttrain-mae:25735.60361\ttest-mae:44425.33626\n",
            "[180]\ttrain-mae:25370.46524\ttest-mae:44366.70680\n",
            "[190]\ttrain-mae:25109.45137\ttest-mae:44267.09584\n",
            "[200]\ttrain-mae:24757.10881\ttest-mae:44207.56693\n",
            "[210]\ttrain-mae:24484.65757\ttest-mae:44213.56093\n",
            "[220]\ttrain-mae:24240.44204\ttest-mae:44240.51045\n",
            "[230]\ttrain-mae:23999.45239\ttest-mae:44182.89163\n",
            "[240]\ttrain-mae:23813.61823\ttest-mae:44152.16223\n",
            "[250]\ttrain-mae:23583.03436\ttest-mae:44060.47504\n",
            "[260]\ttrain-mae:23411.62797\ttest-mae:44202.25565\n",
            "[270]\ttrain-mae:23259.52973\ttest-mae:44082.31839\n",
            "[280]\ttrain-mae:23057.00678\ttest-mae:44045.73396\n",
            "[290]\ttrain-mae:22857.15146\ttest-mae:44132.17280\n",
            "[300]\ttrain-mae:22691.40338\ttest-mae:44178.31457\n",
            "[310]\ttrain-mae:22551.30392\ttest-mae:44287.57266\n",
            "[320]\ttrain-mae:22404.30461\ttest-mae:44205.70819\n",
            "[330]\ttrain-mae:22241.68757\ttest-mae:44319.91825\n",
            "[336]\ttrain-mae:22157.82728\ttest-mae:44457.03343\n"
          ]
        },
        {
          "output_type": "display_data",
          "data": {
            "text/plain": [
              "<Figure size 1000x500 with 1 Axes>"
            ],
            "image/png": "[encoded data removed]"
          },
          "metadata": {}
        }
      ]
    },
    {
      "cell_type": "code",
      "source": [
        "print(\"First date in training set:\", df.iloc[:len(X_train)]['year'].min(), df.iloc[:len(X_train)]['month_num'].min())\n",
        "print(\"Last date in training set:\", df.iloc[:len(X_train)]['year'].max(), df.iloc[:len(X_train)]['month_num'].max())\n",
        "\n",
        "print(\"First date in test set:\", df.iloc[len(X_train):]['year'].min(), df.iloc[len(X_train):]['month_num'].min())\n",
        "print(\"Last date in test set:\", df.iloc[len(X_train):]['year'].max(), df.iloc[len(X_train):]['month_num'].max())\n"
      ],
      "metadata": {
        "colab": {
          "base_uri": "https://localhost:8080/"
        },
        "id": "9tiItXxf71DU",
        "outputId": "dc39fad0-c1ed-4acf-9e72-e8b9b8ab79ee"
      },
      "execution_count": null,
      "outputs": [
        {
          "output_type": "stream",
          "name": "stdout",
          "text": [
            "First date in training set: 2015 1\n",
            "Last date in training set: 2022 12\n",
            "First date in test set: 2023 1\n",
            "Last date in test set: 2025 12\n"
          ]
        }
      ]
    },
    {
      "cell_type": "code",
      "source": [
        "# Make predictions\n",
        "y_pred = xgb_model.predict(dtest)\n",
        "\n",
        "# Evaluate model performance\n",
        "mae = mean_absolute_error(y_test, y_pred)\n",
        "print(f\"Mean Absolute Error: {mae}\")\n",
        "\n",
        "# Save the model\n",
        "xgb_model.save_model(\"/content/drive/My Drive/hdb_xgboost_model.json\")\n",
        "print(\"Model saved\")\n",
        "\n",
        "xgb_model.save_model(\"hdb_xgboost_model.model\")  # Save as binary model\n"
      ],
      "metadata": {
        "id": "BB7zNwLytN4n",
        "colab": {
          "base_uri": "https://localhost:8080/"
        },
        "outputId": "96b0b577-8869-4273-82a1-3f5ab4639bcf"
      },
      "execution_count": null,
      "outputs": [
        {
          "output_type": "stream",
          "name": "stdout",
          "text": [
            "Mean Absolute Error: 44415.406948783144\n",
            "Model saved successfully!\n"
          ]
        },
        {
          "output_type": "stream",
          "name": "stderr",
          "text": [
            "/usr/local/lib/python3.11/dist-packages/xgboost/core.py:158: UserWarning: [11:06:08] WARNING: /workspace/src/c_api/c_api.cc:1374: Saving model in the UBJSON format as default.  You can use file extension: `json`, `ubj` or `deprecated` to choose between formats.\n",
            "  warnings.warn(smsg, UserWarning)\n"
          ]
        }
      ]
    }
  ]
}