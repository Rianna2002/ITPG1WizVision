{
  "nbformat": 4,
  "nbformat_minor": 0,
  "metadata": {
    "colab": {
      "provenance": []
    },
    "kernelspec": {
      "name": "python3",
      "display_name": "Python 3"
    },
    "language_info": {
      "name": "python"
    }
  },
  "cells": [
    {
      "cell_type": "code",
      "execution_count": null,
      "metadata": {
        "colab": {
          "base_uri": "https://localhost:8080/"
        },
        "id": "dylpgvyjTUtr",
        "outputId": "21b3f7bc-15a2-4580-eff0-ae4226f886f9"
      },
      "outputs": [
        {
          "output_type": "stream",
          "name": "stdout",
          "text": [
            "Mounted at /content/drive\n"
          ]
        }
      ],
      "source": [
        "from google.colab import drive\n",
        "drive.mount('/content/drive')"
      ]
    },
    {
      "cell_type": "code",
      "source": [
        "import pandas as pd\n",
        "\n",
        "file_path = '/content/drive/My Drive/Resale_Flat_Prices.csv'\n",
        "raw_data = pd.read_csv(file_path)"
      ],
      "metadata": {
        "colab": {
          "base_uri": "https://localhost:8080/"
        },
        "id": "HqV0HPjOT9O2",
        "outputId": "80c10ae3-7c68-4f59-9182-8d6982e5a890"
      },
      "execution_count": null,
      "outputs": [
        {
          "output_type": "stream",
          "name": "stderr",
          "text": [
            "<ipython-input-2-a8dbd433236b>:4: DtypeWarning: Columns (10) have mixed types. Specify dtype option on import or set low_memory=False.\n",
            "  raw_data = pd.read_csv(file_path)\n"
          ]
        }
      ]
    },
    {
      "cell_type": "code",
      "source": [
        "# Drop rows where 'remaining_lease' has NaN values\n",
        "cleaned_data = raw_data.dropna(subset=['remaining_lease'])\n",
        "\n",
        "print(cleaned_data.head())\n",
        "print(f\"Number of rows: {cleaned_data.shape[0]}\")\n"
      ],
      "metadata": {
        "colab": {
          "base_uri": "https://localhost:8080/"
        },
        "id": "c7U-pWTWVEwE",
        "outputId": "1ebefc11-8714-424e-98fe-d29f96acbee6"
      },
      "execution_count": null,
      "outputs": [
        {
          "output_type": "stream",
          "name": "stdout",
          "text": [
            "          month        town flat_type block        street_name storey_range  \\\n",
            "656847  2015-01  ANG MO KIO    3 ROOM   174   ANG MO KIO AVE 4     07 TO 09   \n",
            "656848  2015-01  ANG MO KIO    3 ROOM   541  ANG MO KIO AVE 10     01 TO 03   \n",
            "656849  2015-01  ANG MO KIO    3 ROOM   163   ANG MO KIO AVE 4     01 TO 03   \n",
            "656850  2015-01  ANG MO KIO    3 ROOM   446  ANG MO KIO AVE 10     01 TO 03   \n",
            "656851  2015-01  ANG MO KIO    3 ROOM   557  ANG MO KIO AVE 10     07 TO 09   \n",
            "\n",
            "        floor_area_sqm      flat_model  lease_commence_date  resale_price  \\\n",
            "656847            60.0        IMPROVED                 1986      255000.0   \n",
            "656848            68.0  NEW GENERATION                 1981      275000.0   \n",
            "656849            69.0  NEW GENERATION                 1980      285000.0   \n",
            "656850            68.0  NEW GENERATION                 1979      290000.0   \n",
            "656851            68.0  NEW GENERATION                 1980      290000.0   \n",
            "\n",
            "       remaining_lease  \n",
            "656847            70.0  \n",
            "656848            65.0  \n",
            "656849            64.0  \n",
            "656850            63.0  \n",
            "656851            64.0  \n",
            "Number of rows: 235321\n"
          ]
        }
      ]
    },
    {
      "cell_type": "code",
      "source": [
        "def convert_to_months(value):\n",
        "    if pd.isna(value):\n",
        "        return None  # Handle NaN values\n",
        "    if isinstance(value, str):\n",
        "        if \"YEARS\" in value:\n",
        "            parts = value.split(\"YEARS\")\n",
        "            years = int(parts[0].strip())\n",
        "            months = int(parts[1].replace(\"MONTHS\", \"\").strip()) if \"MONTHS\" in parts[1] else 0\n",
        "            return years * 12 + months\n",
        "        else:\n",
        "            return None  # Unexpected format\n",
        "    elif isinstance(value, (int, float)):\n",
        "        return int(value) * 12\n",
        "    else:\n",
        "        return None\n",
        "\n",
        "cleaned_data['remaining_lease'] = cleaned_data['remaining_lease'].apply(convert_to_months)\n",
        "print(cleaned_data.head())"
      ],
      "metadata": {
        "colab": {
          "base_uri": "https://localhost:8080/"
        },
        "id": "az2PaaXpYZj2",
        "outputId": "bc0163f5-a43c-4c1f-9f46-2fbb90536246"
      },
      "execution_count": null,
      "outputs": [
        {
          "output_type": "stream",
          "name": "stdout",
          "text": [
            "          month        town flat_type block        street_name storey_range  \\\n",
            "656847  2015-01  ANG MO KIO    3 ROOM   174   ANG MO KIO AVE 4     07 TO 09   \n",
            "656848  2015-01  ANG MO KIO    3 ROOM   541  ANG MO KIO AVE 10     01 TO 03   \n",
            "656849  2015-01  ANG MO KIO    3 ROOM   163   ANG MO KIO AVE 4     01 TO 03   \n",
            "656850  2015-01  ANG MO KIO    3 ROOM   446  ANG MO KIO AVE 10     01 TO 03   \n",
            "656851  2015-01  ANG MO KIO    3 ROOM   557  ANG MO KIO AVE 10     07 TO 09   \n",
            "\n",
            "        floor_area_sqm      flat_model  lease_commence_date  resale_price  \\\n",
            "656847            60.0        IMPROVED                 1986      255000.0   \n",
            "656848            68.0  NEW GENERATION                 1981      275000.0   \n",
            "656849            69.0  NEW GENERATION                 1980      285000.0   \n",
            "656850            68.0  NEW GENERATION                 1979      290000.0   \n",
            "656851            68.0  NEW GENERATION                 1980      290000.0   \n",
            "\n",
            "        remaining_lease  \n",
            "656847              840  \n",
            "656848              780  \n",
            "656849              768  \n",
            "656850              756  \n",
            "656851              768  \n"
          ]
        },
        {
          "output_type": "stream",
          "name": "stderr",
          "text": [
            "<ipython-input-4-1069846139aa>:17: SettingWithCopyWarning: \n",
            "A value is trying to be set on a copy of a slice from a DataFrame.\n",
            "Try using .loc[row_indexer,col_indexer] = value instead\n",
            "\n",
            "See the caveats in the documentation: https://pandas.pydata.org/pandas-docs/stable/user_guide/indexing.html#returning-a-view-versus-a-copy\n",
            "  cleaned_data['remaining_lease'] = cleaned_data['remaining_lease'].apply(convert_to_months)\n"
          ]
        }
      ]
    },
    {
      "cell_type": "code",
      "source": [
        "cleaned_data.to_csv(\"modified_flat_model.csv\", index=False)"
      ],
      "metadata": {
        "id": "aXeXO6s-bS7R"
      },
      "execution_count": null,
      "outputs": []
    }
  ]
}